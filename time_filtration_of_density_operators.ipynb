{
 "cells": [
  {
   "cell_type": "markdown",
   "id": "93763613-fddf-4989-9541-9628ea437b34",
   "metadata": {},
   "source": [
    "# Filtering a Circuit by Moments (in Time)"
   ]
  },
  {
   "cell_type": "markdown",
   "id": "7dfb4ed3-45b9-4c7e-a413-67f9c3616e75",
   "metadata": {},
   "source": [
    "The idea of this brief notebook is simply to partition a circuit into **moments** (in '*time*'), then calculate the density matrix of the circuit up to that moment. The point is to have an additional parameter to filter the circuit with respect to (in addition to entanglement or quantum mutual information as a first parameter). With two parameters to filter the circuit we can study **bifiltration** of the weighted interaction graphs (weighted by entanglement entropy or quantum mutual information). With this bifiltration, we can study two-parameter persistent homology.\n",
    "\n",
    "A few points to be made. First, the following function should ignore measurements as it returns a list of density matrices, and density matrices can only be calculated for circuits without measurements. There should be one density matrix for each moment in time, it should be obtained from the outer product of the current state vector with its conjugate, that is $\\rho_j = |\\psi_j \\rangle \\langle \\psi_j |$. This can then be passed to one of the notebooks on weighted interaction graphs. Each density matrix can be used to define a weighted interaction graph, and this provides a discrete time filtration. To obtain the filtration of each slice of time according to one of the three weighting paradigms we just use the methods in the corresponding notebook for each density matrix returned by this method. A bifiltration of a triangle should look as follows (see [The Theory of Multidimensional Persistence](https://www.researchgate.net/publication/225878794_The_Theory_of_Multidimensional_Persistence)):\n"
   ]
  },
  {
   "cell_type": "markdown",
   "id": "4b575734-c4b7-410d-8145-8213d29d8679",
   "metadata": {},
   "source": [
    "![A-bifiltration-of-a-triangle](A-bifiltration-of-a-triangle.png \"A-bifiltration-of-a-triangle\")\n"
   ]
  },
  {
   "cell_type": "markdown",
   "id": "26f14029-08fd-4c73-bf54-71ab3eba7078",
   "metadata": {},
   "source": [
    "## Using Cirq"
   ]
  },
  {
   "cell_type": "code",
   "execution_count": 1,
   "id": "f7ad12a0-af0e-4ea7-b178-1cc63a153721",
   "metadata": {},
   "outputs": [],
   "source": [
    "import cirq\n",
    "\n",
    "def partition_circuit_by_moments(circuit):\n",
    "    moments = list(circuit)\n",
    "    simulator = cirq.Simulator()\n",
    "\n",
    "    state_vectors = []\n",
    "    current_state = simulator.simulate(circuit)\n",
    "    state_vectors.append(current_state.final_state_vector)\n",
    "\n",
    "    for i in range(1, len(moments)):\n",
    "        moment = moments[:i+1]\n",
    "        partial_circuit = cirq.Circuit(moment)\n",
    "        current_state = simulator.simulate(partial_circuit)\n",
    "        state_vectors.append(current_state.final_state_vector)\n",
    "\n",
    "    return state_vectors\n"
   ]
  },
  {
   "cell_type": "code",
   "execution_count": 2,
   "id": "a6aa162a-fa59-4cf6-8efa-9edcd14b57fb",
   "metadata": {},
   "outputs": [
    {
     "data": {
      "text/html": [
       "<pre style=\"overflow: auto; white-space: pre;\">0: ───H───@───X───M───\n",
       "          │\n",
       "1: ───────X───M───────</pre>"
      ],
      "text/plain": [
       "0: ───H───@───X───M───\n",
       "          │\n",
       "1: ───────X───M───────"
      ]
     },
     "execution_count": 2,
     "metadata": {},
     "output_type": "execute_result"
    }
   ],
   "source": [
    "circuit = cirq.Circuit()\n",
    "q0, q1 = cirq.LineQubit.range(2)\n",
    "circuit.append([cirq.H(q0), cirq.CNOT(q0, q1), cirq.X(q0), cirq.measure(q0), cirq.measure(q1)])\n",
    "circuit"
   ]
  },
  {
   "cell_type": "code",
   "execution_count": 3,
   "id": "3e456f7e-29b5-4348-8723-2a2b11571de9",
   "metadata": {},
   "outputs": [
    {
     "data": {
      "text/plain": [
       "[array([0.        +0.j, 0.99999994+0.j, 0.        +0.j, 0.        +0.j],\n",
       "       dtype=complex64),\n",
       " array([0.70710677+0.j, 0.        +0.j, 0.        +0.j, 0.70710677+0.j],\n",
       "       dtype=complex64),\n",
       " array([0.        +0.j, 0.        +0.j, 0.99999994+0.j, 0.        +0.j],\n",
       "       dtype=complex64),\n",
       " array([0.        +0.j, 0.        +0.j, 0.99999994+0.j, 0.        +0.j],\n",
       "       dtype=complex64)]"
      ]
     },
     "execution_count": 3,
     "metadata": {},
     "output_type": "execute_result"
    }
   ],
   "source": [
    "partition_circuit_by_moments(circuit)"
   ]
  },
  {
   "cell_type": "code",
   "execution_count": 6,
   "id": "f7972c99-82ee-439f-912c-bef3a9e9be0e",
   "metadata": {},
   "outputs": [
    {
     "data": {
      "text/html": [
       "<pre style=\"overflow: auto; white-space: pre;\">0: ───H───@───X───X───X───\n",
       "          │\n",
       "1: ───────X───X───────────</pre>"
      ],
      "text/plain": [
       "0: ───H───@───X───X───X───\n",
       "          │\n",
       "1: ───────X───X───────────"
      ]
     },
     "execution_count": 6,
     "metadata": {},
     "output_type": "execute_result"
    }
   ],
   "source": [
    "circuit2 = cirq.Circuit()\n",
    "q0, q1 = cirq.LineQubit.range(2)\n",
    "circuit2.append([cirq.H(q0), cirq.CNOT(q0, q1), cirq.X(q0), cirq.X(q0), cirq.X(q0), cirq.X(q1)])\n",
    "circuit2"
   ]
  },
  {
   "cell_type": "code",
   "execution_count": 7,
   "id": "38d860cb-5f5c-4297-9638-1c91ba1b88ea",
   "metadata": {},
   "outputs": [
    {
     "data": {
      "text/plain": [
       "[array([0.70710677+0.j, 0.        +0.j, 0.        +0.j, 0.70710677+0.j],\n",
       "       dtype=complex64),\n",
       " array([0.70710677+0.j, 0.        +0.j, 0.        +0.j, 0.70710677+0.j],\n",
       "       dtype=complex64),\n",
       " array([0.70710677+0.j, 0.        +0.j, 0.        +0.j, 0.70710677+0.j],\n",
       "       dtype=complex64),\n",
       " array([0.        +0.j, 0.70710677+0.j, 0.70710677+0.j, 0.        +0.j],\n",
       "       dtype=complex64),\n",
       " array([0.70710677+0.j, 0.        +0.j, 0.        +0.j, 0.70710677+0.j],\n",
       "       dtype=complex64)]"
      ]
     },
     "execution_count": 7,
     "metadata": {},
     "output_type": "execute_result"
    }
   ],
   "source": [
    "partition_circuit_by_moments(circuit2)"
   ]
  },
  {
   "cell_type": "code",
   "execution_count": null,
   "id": "0360ba4d-21c3-4ac0-bc9f-bfb4bde9b9e6",
   "metadata": {},
   "outputs": [],
   "source": []
  }
 ],
 "metadata": {
  "kernelspec": {
   "display_name": "Python 3.8.5 64-bit ('anaconda3': virtualenv)",
   "language": "python",
   "name": "python385jvsc74a57bd0474c67ce7e36ad5731492349411c4ce02ca5c170a680b2d1efe1eb0325e35fe7"
  },
  "language_info": {
   "codemirror_mode": {
    "name": "ipython",
    "version": 3
   },
   "file_extension": ".py",
   "mimetype": "text/x-python",
   "name": "python",
   "nbconvert_exporter": "python",
   "pygments_lexer": "ipython3",
   "version": "3.9.13"
  }
 },
 "nbformat": 4,
 "nbformat_minor": 5
}
