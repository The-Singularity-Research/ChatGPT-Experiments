{
 "cells": [
  {
   "cell_type": "markdown",
   "id": "3f71047e-4fbf-426c-a9ea-374dd3ea1000",
   "metadata": {},
   "source": [
    "# Quantum Relative Entropy"
   ]
  },
  {
   "cell_type": "markdown",
   "id": "1d81717b-e91a-4c05-a453-4ecaf44cfaaa",
   "metadata": {},
   "source": [
    "Here's an explanation of how the function works:\n",
    "\n",
    "1. We import the necessary libraries: Cirq for the quantum circuit simulation and NumPy for numerical operations.\n",
    "\n",
    "2. We define the function quantum_relative_entropy that takes two Cirq quantum circuits as input.\n",
    "\n",
    "3. obtain their corresponding density matrices rho1 and rho2.\n",
    "\n",
    "4. We calculate the quantum relative entropy using the formula:\n",
    "\n",
    "$$\n",
    "S(\\rho_1 | \\rho_2) = \\mathbf{Tr}(\\rho_1(\\log_2(\\rho_1+\\delta)- \\log_2(\\rho_2+\\delta)))\n",
    "$$\n",
    "\n",
    "where delta is a small positive constant that ensures the logarithms are well-defined for zero eigenvalues.\n",
    "\n",
    "5. We return the quantum relative entropy as the output of the function.\n",
    "\n",
    "Note that the function assumes that the two input circuits have the same number of qubits, since the density matrices must have the same dimensionality to be compared using the quantum relative entropy. If the circuits have different numbers of qubits, you may need to modify the function to handle this case appropriately."
   ]
  },
  {
   "cell_type": "code",
   "execution_count": 8,
   "id": "6452d7e9-6925-4006-8fae-0026b90a2a8c",
   "metadata": {},
   "outputs": [],
   "source": [
    "import cirq\n",
    "import numpy as np\n",
    "\n",
    "def quantum_relative_entropy(circuit1, circuit2):\n",
    "    # Create a simulator to simulate the circuits\n",
    "    simulator = cirq.Simulator()\n",
    "\n",
    "    # Simulate the circuits to obtain the corresponding density matrices\n",
    "    rho1 = cirq.final_density_matrix(circuit1)\n",
    "    rho2 = cirq.final_density_matrix(circuit2)\n",
    "\n",
    "    # Calculate the quantum relative entropy\n",
    "    d = rho1.shape[0]\n",
    "    delta = np.eye(d) / d\n",
    "    rel_entropy = np.trace(rho1 @ (np.log2(rho1 + delta) - np.log2(rho2 + delta)))\n",
    "\n",
    "    return rel_entropy\n"
   ]
  },
  {
   "cell_type": "markdown",
   "id": "4be27a2d-b639-4d7f-ba4f-d21ee169f55b",
   "metadata": {},
   "source": [
    "The code defines a function graph_state_circuit that takes a positive integer num_qubits as input and returns a Cirq quantum circuit on num_qubits qubits. The circuit is initialized with Hadamard gates applied to all qubits, and then a graph with num_qubits nodes is randomly generated. Random controlled unitary gates are then applied to each edge of the graph, where the unitary matrix is generated using the cirq.testing.random_unitary function. The function returns the resulting circuit. This generalizes graph states and can be thought of as a perturbation of a graph state. We would like to compare two such perturbed graph states by computing their quantum relative entropies. Note, they must have the same number of qubits. "
   ]
  },
  {
   "cell_type": "code",
   "execution_count": 16,
   "id": "3a20cfef-bc08-401e-af2e-aaf005f41d6d",
   "metadata": {},
   "outputs": [],
   "source": [
    "import cirq\n",
    "import numpy as np\n",
    "\n",
    "def graph_state_circuit(num_qubits):\n",
    "    \"\"\"Returns a graph state circuit on num_qubits qubits\"\"\"\n",
    "    # Generate a random graph with num_qubits nodes\n",
    "    graph = nx.fast_gnp_random_graph(num_qubits, 0.5)\n",
    "\n",
    "    # Initialize the circuit with the given qubits\n",
    "    qubits = [cirq.LineQubit(i) for i in range(num_qubits)]\n",
    "    circuit = cirq.Circuit()\n",
    "\n",
    "    # Apply Hadamard gates to all qubits\n",
    "    circuit.append(cirq.H.on_each(qubits))\n",
    "\n",
    "    # Apply random controlled unitary gates to each edge\n",
    "    for edge in graph.edges():\n",
    "        control_qubit, target_qubit = qubits[edge[0]], qubits[edge[1]]\n",
    "\n",
    "        # Generate a random unitary matrix\n",
    "        random_unitary = cirq.testing.random_unitary(2)\n",
    "\n",
    "        # Apply the controlled random unitary gate to the circuit\n",
    "        circuit.append(cirq.ControlledGate(cirq.MatrixGate(random_unitary)).on(control_qubit, target_qubit))\n",
    "\n",
    "        \n",
    "    # Define number of qubits in circuit\n",
    "    circuit.num_qubits = len(circuit.all_qubits())\n",
    "\n",
    "    \n",
    "    return circuit\n"
   ]
  },
  {
   "cell_type": "code",
   "execution_count": 17,
   "id": "07bb6418-fbab-4f53-bad3-63800275c999",
   "metadata": {},
   "outputs": [
    {
     "data": {
      "text/html": [
       "<pre style=\"overflow: auto; white-space: pre;\">0: ───H───@───────────────────────────────────────────────────────────────────────────────────────────────\n",
       "          │\n",
       "          ┌                           ┐\n",
       "1: ───H───│ 0.409-0.656j  0.632+0.051j│───@───────────────────────────────────────────────────────────────\n",
       "          │ 0.205-0.6j   -0.765+0.113j│   │\n",
       "          └                           ┘   │\n",
       "                                          │\n",
       "                                          ┌                           ┐\n",
       "2: ───H───────────────────────────────────│-0.755+0.445j -0.177+0.447j│───@───────────────────────────────\n",
       "                                          │ 0.262+0.404j -0.828-0.288j│   │\n",
       "                                          └                           ┘   │\n",
       "                                                                          │\n",
       "                                                                          ┌                           ┐\n",
       "3: ───H───────────────────────────────────────────────────────────────────│ 0.544+0.506j  0.498-0.446j│───\n",
       "                                                                          │-0.311-0.592j  0.687-0.284j│\n",
       "                                                                          └                           ┘</pre>"
      ],
      "text/plain": [
       "0: ───H───@───────────────────────────────────────────────────────────────────────────────────────────────\n",
       "          │\n",
       "          ┌                           ┐\n",
       "1: ───H───│ 0.409-0.656j  0.632+0.051j│───@───────────────────────────────────────────────────────────────\n",
       "          │ 0.205-0.6j   -0.765+0.113j│   │\n",
       "          └                           ┘   │\n",
       "                                          │\n",
       "                                          ┌                           ┐\n",
       "2: ───H───────────────────────────────────│-0.755+0.445j -0.177+0.447j│───@───────────────────────────────\n",
       "                                          │ 0.262+0.404j -0.828-0.288j│   │\n",
       "                                          └                           ┘   │\n",
       "                                                                          │\n",
       "                                                                          ┌                           ┐\n",
       "3: ───H───────────────────────────────────────────────────────────────────│ 0.544+0.506j  0.498-0.446j│───\n",
       "                                                                          │-0.311-0.592j  0.687-0.284j│\n",
       "                                                                          └                           ┘"
      ]
     },
     "execution_count": 17,
     "metadata": {},
     "output_type": "execute_result"
    }
   ],
   "source": [
    "num_qubits = 4\n",
    "circuit1 = graph_state_circuit(num_qubits)\n",
    "circuit1"
   ]
  },
  {
   "cell_type": "code",
   "execution_count": 18,
   "id": "04775428-7cf4-4bfd-aedb-525b01d9d276",
   "metadata": {},
   "outputs": [
    {
     "data": {
      "text/html": [
       "<pre style=\"overflow: auto; white-space: pre;\">0: ───H───@───────────────────────────────@───────────────────────────────────────────────────────────────────────────────────────────────\n",
       "          │                               │\n",
       "          ┌                           ┐   │\n",
       "1: ───H───│-0.191-0.695j -0.666+0.191j│───┼───────────────────────────────@───────────────────────────────────────────────────────────────\n",
       "          │ 0.084-0.688j  0.717+0.079j│   │                               │\n",
       "          └                           ┘   │                               │\n",
       "                                          │                               │\n",
       "2: ───H───────────────────────────────────┼───────────────────────────────┼───────────────────────────────@───────────────────────────────\n",
       "                                          │                               │                               │\n",
       "                                          ┌                           ┐   ┌                           ┐   ┌                           ┐\n",
       "3: ───H───────────────────────────────────│-0.245-0.259j  0.185+0.916j│───│ 0.144+0.025j  0.156+0.977j│───│-0.615+0.603j  0.508+0.021j│───\n",
       "                                          │-0.737-0.575j -0.122-0.335j│   │ 0.073-0.987j -0.141+0.037j│   │-0.349+0.369j -0.861-0.002j│\n",
       "                                          └                           ┘   └                           ┘   └                           ┘</pre>"
      ],
      "text/plain": [
       "0: ───H───@───────────────────────────────@───────────────────────────────────────────────────────────────────────────────────────────────\n",
       "          │                               │\n",
       "          ┌                           ┐   │\n",
       "1: ───H───│-0.191-0.695j -0.666+0.191j│───┼───────────────────────────────@───────────────────────────────────────────────────────────────\n",
       "          │ 0.084-0.688j  0.717+0.079j│   │                               │\n",
       "          └                           ┘   │                               │\n",
       "                                          │                               │\n",
       "2: ───H───────────────────────────────────┼───────────────────────────────┼───────────────────────────────@───────────────────────────────\n",
       "                                          │                               │                               │\n",
       "                                          ┌                           ┐   ┌                           ┐   ┌                           ┐\n",
       "3: ───H───────────────────────────────────│-0.245-0.259j  0.185+0.916j│───│ 0.144+0.025j  0.156+0.977j│───│-0.615+0.603j  0.508+0.021j│───\n",
       "                                          │-0.737-0.575j -0.122-0.335j│   │ 0.073-0.987j -0.141+0.037j│   │-0.349+0.369j -0.861-0.002j│\n",
       "                                          └                           ┘   └                           ┘   └                           ┘"
      ]
     },
     "execution_count": 18,
     "metadata": {},
     "output_type": "execute_result"
    }
   ],
   "source": [
    "circuit2 = graph_state_circuit(num_qubits)\n",
    "circuit2"
   ]
  },
  {
   "cell_type": "code",
   "execution_count": 19,
   "id": "d6e3569b-a8a6-4cfa-aaaa-21dba8d6f82b",
   "metadata": {},
   "outputs": [
    {
     "name": "stdout",
     "output_type": "stream",
     "text": [
      "Quantum relative entropy: (18.366376192416+4.440892098500626e-16j)\n"
     ]
    }
   ],
   "source": [
    "import cirq\n",
    "\n",
    "# Test the quantum_relative_entropy function\n",
    "rel_entropy = quantum_relative_entropy(circuit1, circuit2)\n",
    "print(f\"Quantum relative entropy: {rel_entropy}\")"
   ]
  },
  {
   "cell_type": "code",
   "execution_count": null,
   "id": "77a31e48-7659-4de7-9234-380627675453",
   "metadata": {},
   "outputs": [],
   "source": []
  }
 ],
 "metadata": {
  "kernelspec": {
   "display_name": "Python 3.8.5 64-bit ('anaconda3': virtualenv)",
   "language": "python",
   "name": "python385jvsc74a57bd0474c67ce7e36ad5731492349411c4ce02ca5c170a680b2d1efe1eb0325e35fe7"
  },
  "language_info": {
   "codemirror_mode": {
    "name": "ipython",
    "version": 3
   },
   "file_extension": ".py",
   "mimetype": "text/x-python",
   "name": "python",
   "nbconvert_exporter": "python",
   "pygments_lexer": "ipython3",
   "version": "3.9.13"
  }
 },
 "nbformat": 4,
 "nbformat_minor": 5
}
