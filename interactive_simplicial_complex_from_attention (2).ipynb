{
 "cells": [
  {
   "cell_type": "markdown",
   "id": "7b2e9067-f131-4e34-9d77-f896e43e798c",
   "metadata": {},
   "source": [
    "# Interactive 3D-Plot of Persistent Homology Simplicial Complexes from Attention"
   ]
  },
  {
   "cell_type": "code",
   "execution_count": 14,
   "id": "135f1d23-e3c3-45c1-adeb-08092ed69062",
   "metadata": {},
   "outputs": [
    {
     "name": "stdout",
     "output_type": "stream",
     "text": [
      "Note: you may need to restart the kernel to use updated packages.\n"
     ]
    }
   ],
   "source": [
    "pip install plotly -q"
   ]
  },
  {
   "cell_type": "code",
   "execution_count": 15,
   "id": "75f231f0-40f9-41f9-a626-8838d19d69e7",
   "metadata": {},
   "outputs": [
    {
     "data": {
      "application/vnd.plotly.v1+json": {
       "config": {
        "plotlyServerURL": "https://plot.ly"
       },
       "data": [
        {
         "line": {
          "color": "gray",
          "width": 1
         },
         "mode": "lines",
         "type": "scatter3d",
         "x": [
          0.3700866534116364,
          0.3022655279211707,
          null,
          0.3700866534116364,
          0.48174819631143606,
          null,
          0.3022655279211707,
          0.48174819631143606,
          null,
          -0.6381246170252455,
          -0.5159757606189975,
          null
         ],
         "y": [
          0.2822963795655205,
          0.13319013037983018,
          null,
          0.2822963795655205,
          0.20018267120357597,
          null,
          0.13319013037983018,
          0.20018267120357597,
          null,
          -0.24211930791978298,
          -0.3735498732291436,
          null
         ],
         "z": [
          -0.5613117897972951,
          -0.6656703883420859,
          null,
          -0.5613117897972951,
          -0.6973113402499167,
          null,
          -0.6656703883420859,
          -0.6973113402499167,
          null,
          0.9242935183892977,
          1,
          null
         ]
        },
        {
         "marker": {
          "color": "lightblue",
          "size": 10,
          "symbol": "circle"
         },
         "mode": "markers+text",
         "text": [
          "Quant",
          "um",
          " is",
          " interesting",
          " information"
         ],
         "textposition": "top center",
         "type": "scatter3d",
         "x": [
          0.3700866534116364,
          0.3022655279211707,
          -0.6381246170252455,
          -0.5159757606189975,
          0.48174819631143606
         ],
         "y": [
          0.2822963795655205,
          0.13319013037983018,
          -0.24211930791978298,
          -0.3735498732291436,
          0.20018267120357597
         ],
         "z": [
          -0.5613117897972951,
          -0.6656703883420859,
          0.9242935183892977,
          1,
          -0.6973113402499167
         ]
        }
       ],
       "layout": {
        "autosize": true,
        "scene": {
         "aspectmode": "auto",
         "aspectratio": {
          "x": 1.0405380108037423,
          "y": 0.6093843400329781,
          "z": 1.5770692391719952
         },
         "camera": {
          "center": {
           "x": 0,
           "y": 0,
           "z": 0
          },
          "eye": {
           "x": 0.2313821750068579,
           "y": 0.5190621512553403,
           "z": -1.193014544211908
          },
          "projection": {
           "type": "perspective"
          },
          "up": {
           "x": 0.17750509420773003,
           "y": 0.8893484239540541,
           "z": 0.4213683926693423
          }
         },
         "xaxis": {
          "title": {
           "text": "X"
          },
          "type": "linear"
         },
         "yaxis": {
          "title": {
           "text": "Y"
          },
          "type": "linear"
         },
         "zaxis": {
          "title": {
           "text": "Z"
          },
          "type": "linear"
         }
        },
        "showlegend": false,
        "template": {
         "data": {
          "bar": [
           {
            "error_x": {
             "color": "#2a3f5f"
            },
            "error_y": {
             "color": "#2a3f5f"
            },
            "marker": {
             "line": {
              "color": "#E5ECF6",
              "width": 0.5
             },
             "pattern": {
              "fillmode": "overlay",
              "size": 10,
              "solidity": 0.2
             }
            },
            "type": "bar"
           }
          ],
          "barpolar": [
           {
            "marker": {
             "line": {
              "color": "#E5ECF6",
              "width": 0.5
             },
             "pattern": {
              "fillmode": "overlay",
              "size": 10,
              "solidity": 0.2
             }
            },
            "type": "barpolar"
           }
          ],
          "carpet": [
           {
            "aaxis": {
             "endlinecolor": "#2a3f5f",
             "gridcolor": "white",
             "linecolor": "white",
             "minorgridcolor": "white",
             "startlinecolor": "#2a3f5f"
            },
            "baxis": {
             "endlinecolor": "#2a3f5f",
             "gridcolor": "white",
             "linecolor": "white",
             "minorgridcolor": "white",
             "startlinecolor": "#2a3f5f"
            },
            "type": "carpet"
           }
          ],
          "choropleth": [
           {
            "colorbar": {
             "outlinewidth": 0,
             "ticks": ""
            },
            "type": "choropleth"
           }
          ],
          "contour": [
           {
            "colorbar": {
             "outlinewidth": 0,
             "ticks": ""
            },
            "colorscale": [
             [
              0,
              "#0d0887"
             ],
             [
              0.1111111111111111,
              "#46039f"
             ],
             [
              0.2222222222222222,
              "#7201a8"
             ],
             [
              0.3333333333333333,
              "#9c179e"
             ],
             [
              0.4444444444444444,
              "#bd3786"
             ],
             [
              0.5555555555555556,
              "#d8576b"
             ],
             [
              0.6666666666666666,
              "#ed7953"
             ],
             [
              0.7777777777777778,
              "#fb9f3a"
             ],
             [
              0.8888888888888888,
              "#fdca26"
             ],
             [
              1,
              "#f0f921"
             ]
            ],
            "type": "contour"
           }
          ],
          "contourcarpet": [
           {
            "colorbar": {
             "outlinewidth": 0,
             "ticks": ""
            },
            "type": "contourcarpet"
           }
          ],
          "heatmap": [
           {
            "colorbar": {
             "outlinewidth": 0,
             "ticks": ""
            },
            "colorscale": [
             [
              0,
              "#0d0887"
             ],
             [
              0.1111111111111111,
              "#46039f"
             ],
             [
              0.2222222222222222,
              "#7201a8"
             ],
             [
              0.3333333333333333,
              "#9c179e"
             ],
             [
              0.4444444444444444,
              "#bd3786"
             ],
             [
              0.5555555555555556,
              "#d8576b"
             ],
             [
              0.6666666666666666,
              "#ed7953"
             ],
             [
              0.7777777777777778,
              "#fb9f3a"
             ],
             [
              0.8888888888888888,
              "#fdca26"
             ],
             [
              1,
              "#f0f921"
             ]
            ],
            "type": "heatmap"
           }
          ],
          "heatmapgl": [
           {
            "colorbar": {
             "outlinewidth": 0,
             "ticks": ""
            },
            "colorscale": [
             [
              0,
              "#0d0887"
             ],
             [
              0.1111111111111111,
              "#46039f"
             ],
             [
              0.2222222222222222,
              "#7201a8"
             ],
             [
              0.3333333333333333,
              "#9c179e"
             ],
             [
              0.4444444444444444,
              "#bd3786"
             ],
             [
              0.5555555555555556,
              "#d8576b"
             ],
             [
              0.6666666666666666,
              "#ed7953"
             ],
             [
              0.7777777777777778,
              "#fb9f3a"
             ],
             [
              0.8888888888888888,
              "#fdca26"
             ],
             [
              1,
              "#f0f921"
             ]
            ],
            "type": "heatmapgl"
           }
          ],
          "histogram": [
           {
            "marker": {
             "pattern": {
              "fillmode": "overlay",
              "size": 10,
              "solidity": 0.2
             }
            },
            "type": "histogram"
           }
          ],
          "histogram2d": [
           {
            "colorbar": {
             "outlinewidth": 0,
             "ticks": ""
            },
            "colorscale": [
             [
              0,
              "#0d0887"
             ],
             [
              0.1111111111111111,
              "#46039f"
             ],
             [
              0.2222222222222222,
              "#7201a8"
             ],
             [
              0.3333333333333333,
              "#9c179e"
             ],
             [
              0.4444444444444444,
              "#bd3786"
             ],
             [
              0.5555555555555556,
              "#d8576b"
             ],
             [
              0.6666666666666666,
              "#ed7953"
             ],
             [
              0.7777777777777778,
              "#fb9f3a"
             ],
             [
              0.8888888888888888,
              "#fdca26"
             ],
             [
              1,
              "#f0f921"
             ]
            ],
            "type": "histogram2d"
           }
          ],
          "histogram2dcontour": [
           {
            "colorbar": {
             "outlinewidth": 0,
             "ticks": ""
            },
            "colorscale": [
             [
              0,
              "#0d0887"
             ],
             [
              0.1111111111111111,
              "#46039f"
             ],
             [
              0.2222222222222222,
              "#7201a8"
             ],
             [
              0.3333333333333333,
              "#9c179e"
             ],
             [
              0.4444444444444444,
              "#bd3786"
             ],
             [
              0.5555555555555556,
              "#d8576b"
             ],
             [
              0.6666666666666666,
              "#ed7953"
             ],
             [
              0.7777777777777778,
              "#fb9f3a"
             ],
             [
              0.8888888888888888,
              "#fdca26"
             ],
             [
              1,
              "#f0f921"
             ]
            ],
            "type": "histogram2dcontour"
           }
          ],
          "mesh3d": [
           {
            "colorbar": {
             "outlinewidth": 0,
             "ticks": ""
            },
            "type": "mesh3d"
           }
          ],
          "parcoords": [
           {
            "line": {
             "colorbar": {
              "outlinewidth": 0,
              "ticks": ""
             }
            },
            "type": "parcoords"
           }
          ],
          "pie": [
           {
            "automargin": true,
            "type": "pie"
           }
          ],
          "scatter": [
           {
            "fillpattern": {
             "fillmode": "overlay",
             "size": 10,
             "solidity": 0.2
            },
            "type": "scatter"
           }
          ],
          "scatter3d": [
           {
            "line": {
             "colorbar": {
              "outlinewidth": 0,
              "ticks": ""
             }
            },
            "marker": {
             "colorbar": {
              "outlinewidth": 0,
              "ticks": ""
             }
            },
            "type": "scatter3d"
           }
          ],
          "scattercarpet": [
           {
            "marker": {
             "colorbar": {
              "outlinewidth": 0,
              "ticks": ""
             }
            },
            "type": "scattercarpet"
           }
          ],
          "scattergeo": [
           {
            "marker": {
             "colorbar": {
              "outlinewidth": 0,
              "ticks": ""
             }
            },
            "type": "scattergeo"
           }
          ],
          "scattergl": [
           {
            "marker": {
             "colorbar": {
              "outlinewidth": 0,
              "ticks": ""
             }
            },
            "type": "scattergl"
           }
          ],
          "scattermapbox": [
           {
            "marker": {
             "colorbar": {
              "outlinewidth": 0,
              "ticks": ""
             }
            },
            "type": "scattermapbox"
           }
          ],
          "scatterpolar": [
           {
            "marker": {
             "colorbar": {
              "outlinewidth": 0,
              "ticks": ""
             }
            },
            "type": "scatterpolar"
           }
          ],
          "scatterpolargl": [
           {
            "marker": {
             "colorbar": {
              "outlinewidth": 0,
              "ticks": ""
             }
            },
            "type": "scatterpolargl"
           }
          ],
          "scatterternary": [
           {
            "marker": {
             "colorbar": {
              "outlinewidth": 0,
              "ticks": ""
             }
            },
            "type": "scatterternary"
           }
          ],
          "surface": [
           {
            "colorbar": {
             "outlinewidth": 0,
             "ticks": ""
            },
            "colorscale": [
             [
              0,
              "#0d0887"
             ],
             [
              0.1111111111111111,
              "#46039f"
             ],
             [
              0.2222222222222222,
              "#7201a8"
             ],
             [
              0.3333333333333333,
              "#9c179e"
             ],
             [
              0.4444444444444444,
              "#bd3786"
             ],
             [
              0.5555555555555556,
              "#d8576b"
             ],
             [
              0.6666666666666666,
              "#ed7953"
             ],
             [
              0.7777777777777778,
              "#fb9f3a"
             ],
             [
              0.8888888888888888,
              "#fdca26"
             ],
             [
              1,
              "#f0f921"
             ]
            ],
            "type": "surface"
           }
          ],
          "table": [
           {
            "cells": {
             "fill": {
              "color": "#EBF0F8"
             },
             "line": {
              "color": "white"
             }
            },
            "header": {
             "fill": {
              "color": "#C8D4E3"
             },
             "line": {
              "color": "white"
             }
            },
            "type": "table"
           }
          ]
         },
         "layout": {
          "annotationdefaults": {
           "arrowcolor": "#2a3f5f",
           "arrowhead": 0,
           "arrowwidth": 1
          },
          "autotypenumbers": "strict",
          "coloraxis": {
           "colorbar": {
            "outlinewidth": 0,
            "ticks": ""
           }
          },
          "colorscale": {
           "diverging": [
            [
             0,
             "#8e0152"
            ],
            [
             0.1,
             "#c51b7d"
            ],
            [
             0.2,
             "#de77ae"
            ],
            [
             0.3,
             "#f1b6da"
            ],
            [
             0.4,
             "#fde0ef"
            ],
            [
             0.5,
             "#f7f7f7"
            ],
            [
             0.6,
             "#e6f5d0"
            ],
            [
             0.7,
             "#b8e186"
            ],
            [
             0.8,
             "#7fbc41"
            ],
            [
             0.9,
             "#4d9221"
            ],
            [
             1,
             "#276419"
            ]
           ],
           "sequential": [
            [
             0,
             "#0d0887"
            ],
            [
             0.1111111111111111,
             "#46039f"
            ],
            [
             0.2222222222222222,
             "#7201a8"
            ],
            [
             0.3333333333333333,
             "#9c179e"
            ],
            [
             0.4444444444444444,
             "#bd3786"
            ],
            [
             0.5555555555555556,
             "#d8576b"
            ],
            [
             0.6666666666666666,
             "#ed7953"
            ],
            [
             0.7777777777777778,
             "#fb9f3a"
            ],
            [
             0.8888888888888888,
             "#fdca26"
            ],
            [
             1,
             "#f0f921"
            ]
           ],
           "sequentialminus": [
            [
             0,
             "#0d0887"
            ],
            [
             0.1111111111111111,
             "#46039f"
            ],
            [
             0.2222222222222222,
             "#7201a8"
            ],
            [
             0.3333333333333333,
             "#9c179e"
            ],
            [
             0.4444444444444444,
             "#bd3786"
            ],
            [
             0.5555555555555556,
             "#d8576b"
            ],
            [
             0.6666666666666666,
             "#ed7953"
            ],
            [
             0.7777777777777778,
             "#fb9f3a"
            ],
            [
             0.8888888888888888,
             "#fdca26"
            ],
            [
             1,
             "#f0f921"
            ]
           ]
          },
          "colorway": [
           "#636efa",
           "#EF553B",
           "#00cc96",
           "#ab63fa",
           "#FFA15A",
           "#19d3f3",
           "#FF6692",
           "#B6E880",
           "#FF97FF",
           "#FECB52"
          ],
          "font": {
           "color": "#2a3f5f"
          },
          "geo": {
           "bgcolor": "white",
           "lakecolor": "white",
           "landcolor": "#E5ECF6",
           "showlakes": true,
           "showland": true,
           "subunitcolor": "white"
          },
          "hoverlabel": {
           "align": "left"
          },
          "hovermode": "closest",
          "mapbox": {
           "style": "light"
          },
          "paper_bgcolor": "white",
          "plot_bgcolor": "#E5ECF6",
          "polar": {
           "angularaxis": {
            "gridcolor": "white",
            "linecolor": "white",
            "ticks": ""
           },
           "bgcolor": "#E5ECF6",
           "radialaxis": {
            "gridcolor": "white",
            "linecolor": "white",
            "ticks": ""
           }
          },
          "scene": {
           "xaxis": {
            "backgroundcolor": "#E5ECF6",
            "gridcolor": "white",
            "gridwidth": 2,
            "linecolor": "white",
            "showbackground": true,
            "ticks": "",
            "zerolinecolor": "white"
           },
           "yaxis": {
            "backgroundcolor": "#E5ECF6",
            "gridcolor": "white",
            "gridwidth": 2,
            "linecolor": "white",
            "showbackground": true,
            "ticks": "",
            "zerolinecolor": "white"
           },
           "zaxis": {
            "backgroundcolor": "#E5ECF6",
            "gridcolor": "white",
            "gridwidth": 2,
            "linecolor": "white",
            "showbackground": true,
            "ticks": "",
            "zerolinecolor": "white"
           }
          },
          "shapedefaults": {
           "line": {
            "color": "#2a3f5f"
           }
          },
          "ternary": {
           "aaxis": {
            "gridcolor": "white",
            "linecolor": "white",
            "ticks": ""
           },
           "baxis": {
            "gridcolor": "white",
            "linecolor": "white",
            "ticks": ""
           },
           "bgcolor": "#E5ECF6",
           "caxis": {
            "gridcolor": "white",
            "linecolor": "white",
            "ticks": ""
           }
          },
          "title": {
           "x": 0.05
          },
          "xaxis": {
           "automargin": true,
           "gridcolor": "white",
           "linecolor": "white",
           "ticks": "",
           "title": {
            "standoff": 15
           },
           "zerolinecolor": "white",
           "zerolinewidth": 2
          },
          "yaxis": {
           "automargin": true,
           "gridcolor": "white",
           "linecolor": "white",
           "ticks": "",
           "title": {
            "standoff": 15
           },
           "zerolinecolor": "white",
           "zerolinewidth": 2
          }
         }
        },
        "title": {
         "text": "Simplicial Complex for Text 1"
        }
       }
      },
      "image/png": "[encoded data removed]"
     },
     "metadata": {},
     "output_type": "display_data"
    },
    {
     "data": {
      "application/vnd.plotly.v1+json": {
       "config": {
        "plotlyServerURL": "https://plot.ly"
       },
       "data": [
        {
         "line": {
          "color": "gray",
          "width": 1
         },
         "mode": "lines",
         "type": "scatter3d",
         "x": [
          -0.4885441682604431,
          -0.4073962402628213,
          null,
          -0.4885441682604431,
          -0.31297035306426263,
          null,
          -0.4073962402628213,
          -0.31297035306426263,
          null,
          0.12095908297108185,
          0.24333551355854602,
          null,
          0.12095908297108185,
          0.2174100294113376,
          null,
          0.12095908297108185,
          0.09173101334413193,
          null,
          0.12095908297108185,
          0.1742667466190807,
          null,
          0.12095908297108185,
          0.2706500870356937,
          null,
          0.12095908297108185,
          0.034891677521409245,
          null,
          0.12095908297108185,
          0.06220359395616888,
          null,
          0.24333551355854602,
          0.2174100294113376,
          null,
          0.24333551355854602,
          0.09173101334413193,
          null,
          0.24333551355854602,
          0.1742667466190807,
          null,
          0.24333551355854602,
          0.2706500870356937,
          null,
          0.24333551355854602,
          0.034891677521409245,
          null,
          0.24333551355854602,
          0.06220359395616888,
          null,
          0.2174100294113376,
          0.09173101334413193,
          null,
          0.2174100294113376,
          0.1742667466190807,
          null,
          0.2174100294113376,
          0.2706500870356937,
          null,
          0.2174100294113376,
          0.034891677521409245,
          null,
          0.2174100294113376,
          0.06220359395616888,
          null,
          0.2174100294113376,
          0.0946555417502796,
          null,
          0.034891677521409245,
          0.2706500870356937,
          null,
          0.034891677521409245,
          0.1742667466190807,
          null,
          0.034891677521409245,
          0.09173101334413193,
          null,
          0.034891677521409245,
          0.06220359395616888,
          null,
          0.034891677521409245,
          0.0946555417502796,
          null,
          0.2706500870356937,
          0.1742667466190807,
          null,
          0.2706500870356937,
          0.09173101334413193,
          null,
          0.2706500870356937,
          0.06220359395616888,
          null,
          0.2706500870356937,
          0.0946555417502796,
          null,
          0.09173101334413193,
          0.1742667466190807,
          null,
          0.09173101334413193,
          0.06220359395616888,
          null,
          0.09173101334413193,
          0.0946555417502796,
          null,
          0.1742667466190807,
          0.06220359395616888,
          null,
          0.1742667466190807,
          0.0946555417502796,
          null,
          -0.31297035306426263,
          -0.10119252458020235,
          null,
          0.0946555417502796,
          0.06220359395616888,
          null,
          0.0946555417502796,
          -0.10119252458020235,
          null,
          0.06220359395616888,
          -0.10119252458020235,
          null
         ],
         "y": [
          0.16637631710201337,
          0.0015422344040044126,
          null,
          0.16637631710201337,
          0.056495990624727155,
          null,
          0.0015422344040044126,
          0.056495990624727155,
          null,
          0.03999091338011986,
          -0.04494411872541515,
          null,
          0.03999091338011986,
          -0.13381578792654944,
          null,
          0.03999091338011986,
          -0.1419114092533511,
          null,
          0.03999091338011986,
          0.09914716470117098,
          null,
          0.03999091338011986,
          -0.002418821386048691,
          null,
          0.03999091338011986,
          -0.009755304816682197,
          null,
          0.03999091338011986,
          0.015953007753642546,
          null,
          -0.04494411872541515,
          -0.13381578792654944,
          null,
          -0.04494411872541515,
          -0.1419114092533511,
          null,
          -0.04494411872541515,
          0.09914716470117098,
          null,
          -0.04494411872541515,
          -0.002418821386048691,
          null,
          -0.04494411872541515,
          -0.009755304816682197,
          null,
          -0.04494411872541515,
          0.015953007753642546,
          null,
          -0.13381578792654944,
          -0.1419114092533511,
          null,
          -0.13381578792654944,
          0.09914716470117098,
          null,
          -0.13381578792654944,
          -0.002418821386048691,
          null,
          -0.13381578792654944,
          -0.009755304816682197,
          null,
          -0.13381578792654944,
          0.015953007753642546,
          null,
          -0.13381578792654944,
          -0.061735603265884065,
          null,
          -0.009755304816682197,
          -0.002418821386048691,
          null,
          -0.009755304816682197,
          0.09914716470117098,
          null,
          -0.009755304816682197,
          -0.1419114092533511,
          null,
          -0.009755304816682197,
          0.015953007753642546,
          null,
          -0.009755304816682197,
          -0.061735603265884065,
          null,
          -0.002418821386048691,
          0.09914716470117098,
          null,
          -0.002418821386048691,
          -0.1419114092533511,
          null,
          -0.002418821386048691,
          0.015953007753642546,
          null,
          -0.002418821386048691,
          -0.061735603265884065,
          null,
          -0.1419114092533511,
          0.09914716470117098,
          null,
          -0.1419114092533511,
          0.015953007753642546,
          null,
          -0.1419114092533511,
          -0.061735603265884065,
          null,
          0.09914716470117098,
          0.015953007753642546,
          null,
          0.09914716470117098,
          -0.061735603265884065,
          null,
          0.056495990624727155,
          0.015075417408252408,
          null,
          -0.061735603265884065,
          0.015953007753642546,
          null,
          -0.061735603265884065,
          0.015075417408252408,
          null,
          0.015953007753642546,
          0.015075417408252408,
          null
         ],
         "z": [
          -0.9425675267415846,
          -0.9999999999999999,
          null,
          -0.9425675267415846,
          -0.6882796436897539,
          null,
          -0.9999999999999999,
          -0.6882796436897539,
          null,
          0.48840195847942475,
          0.4694598372935952,
          null,
          0.48840195847942475,
          0.30484967400545815,
          null,
          0.48840195847942475,
          0.36051641389303446,
          null,
          0.48840195847942475,
          0.32072859968218276,
          null,
          0.48840195847942475,
          0.28458576639776445,
          null,
          0.48840195847942475,
          0.3595383150062873,
          null,
          0.48840195847942475,
          0.19153091963428073,
          null,
          0.4694598372935952,
          0.30484967400545815,
          null,
          0.4694598372935952,
          0.36051641389303446,
          null,
          0.4694598372935952,
          0.32072859968218276,
          null,
          0.4694598372935952,
          0.28458576639776445,
          null,
          0.4694598372935952,
          0.3595383150062873,
          null,
          0.4694598372935952,
          0.19153091963428073,
          null,
          0.30484967400545815,
          0.36051641389303446,
          null,
          0.30484967400545815,
          0.32072859968218276,
          null,
          0.30484967400545815,
          0.28458576639776445,
          null,
          0.30484967400545815,
          0.3595383150062873,
          null,
          0.30484967400545815,
          0.19153091963428073,
          null,
          0.30484967400545815,
          0.08932097923646123,
          null,
          0.3595383150062873,
          0.28458576639776445,
          null,
          0.3595383150062873,
          0.32072859968218276,
          null,
          0.3595383150062873,
          0.36051641389303446,
          null,
          0.3595383150062873,
          0.19153091963428073,
          null,
          0.3595383150062873,
          0.08932097923646123,
          null,
          0.28458576639776445,
          0.32072859968218276,
          null,
          0.28458576639776445,
          0.36051641389303446,
          null,
          0.28458576639776445,
          0.19153091963428073,
          null,
          0.28458576639776445,
          0.08932097923646123,
          null,
          0.36051641389303446,
          0.32072859968218276,
          null,
          0.36051641389303446,
          0.19153091963428073,
          null,
          0.36051641389303446,
          0.08932097923646123,
          null,
          0.32072859968218276,
          0.19153091963428073,
          null,
          0.32072859968218276,
          0.08932097923646123,
          null,
          -0.6882796436897539,
          -0.23808529319715027,
          null,
          0.08932097923646123,
          0.19153091963428073,
          null,
          0.08932097923646123,
          -0.23808529319715027,
          null,
          0.19153091963428073,
          -0.23808529319715027,
          null
         ]
        },
        {
         "marker": {
          "color": "lightblue",
          "size": 10,
          "symbol": "circle"
         },
         "mode": "markers+text",
         "text": [
          "Quant",
          "um",
          "ang",
          "lement",
          " ent",
          " to",
          " study",
          " using",
          " attention",
          " information",
          " allows",
          " us",
          " theory"
         ],
         "textposition": "top center",
         "type": "scatter3d",
         "x": [
          -0.4885441682604431,
          -0.4073962402628213,
          0.12095908297108185,
          0.24333551355854602,
          0.2174100294113376,
          0.034891677521409245,
          0.2706500870356937,
          0.09173101334413193,
          0.1742667466190807,
          -0.31297035306426263,
          0.0946555417502796,
          0.06220359395616888,
          -0.10119252458020235
         ],
         "y": [
          0.16637631710201337,
          0.0015422344040044126,
          0.03999091338011986,
          -0.04494411872541515,
          -0.13381578792654944,
          -0.009755304816682197,
          -0.002418821386048691,
          -0.1419114092533511,
          0.09914716470117098,
          0.056495990624727155,
          -0.061735603265884065,
          0.015953007753642546,
          0.015075417408252408
         ],
         "z": [
          -0.9425675267415846,
          -0.9999999999999999,
          0.48840195847942475,
          0.4694598372935952,
          0.30484967400545815,
          0.3595383150062873,
          0.28458576639776445,
          0.36051641389303446,
          0.32072859968218276,
          -0.6882796436897539,
          0.08932097923646123,
          0.19153091963428073,
          -0.23808529319715027
         ]
        }
       ],
       "layout": {
        "autosize": true,
        "scene": {
         "aspectmode": "auto",
         "aspectratio": {
          "x": 1,
          "y": 1,
          "z": 1
         },
         "camera": {
          "center": {
           "x": 0,
           "y": 0,
           "z": 0
          },
          "eye": {
           "x": -0.3549655557827735,
           "y": 0.671103942487178,
           "z": -0.4683038597148239
          },
          "projection": {
           "type": "perspective"
          },
          "up": {
           "x": -0.6478040912210618,
           "y": 0.17477638039147697,
           "z": 0.7414870708613257
          }
         },
         "xaxis": {
          "title": {
           "text": "X"
          },
          "type": "linear"
         },
         "yaxis": {
          "title": {
           "text": "Y"
          },
          "type": "linear"
         },
         "zaxis": {
          "title": {
           "text": "Z"
          },
          "type": "linear"
         }
        },
        "showlegend": false,
        "template": {
         "data": {
          "bar": [
           {
            "error_x": {
             "color": "#2a3f5f"
            },
            "error_y": {
             "color": "#2a3f5f"
            },
            "marker": {
             "line": {
              "color": "#E5ECF6",
              "width": 0.5
             },
             "pattern": {
              "fillmode": "overlay",
              "size": 10,
              "solidity": 0.2
             }
            },
            "type": "bar"
           }
          ],
          "barpolar": [
           {
            "marker": {
             "line": {
              "color": "#E5ECF6",
              "width": 0.5
             },
             "pattern": {
              "fillmode": "overlay",
              "size": 10,
              "solidity": 0.2
             }
            },
            "type": "barpolar"
           }
          ],
          "carpet": [
           {
            "aaxis": {
             "endlinecolor": "#2a3f5f",
             "gridcolor": "white",
             "linecolor": "white",
             "minorgridcolor": "white",
             "startlinecolor": "#2a3f5f"
            },
            "baxis": {
             "endlinecolor": "#2a3f5f",
             "gridcolor": "white",
             "linecolor": "white",
             "minorgridcolor": "white",
             "startlinecolor": "#2a3f5f"
            },
            "type": "carpet"
           }
          ],
          "choropleth": [
           {
            "colorbar": {
             "outlinewidth": 0,
             "ticks": ""
            },
            "type": "choropleth"
           }
          ],
          "contour": [
           {
            "colorbar": {
             "outlinewidth": 0,
             "ticks": ""
            },
            "colorscale": [
             [
              0,
              "#0d0887"
             ],
             [
              0.1111111111111111,
              "#46039f"
             ],
             [
              0.2222222222222222,
              "#7201a8"
             ],
             [
              0.3333333333333333,
              "#9c179e"
             ],
             [
              0.4444444444444444,
              "#bd3786"
             ],
             [
              0.5555555555555556,
              "#d8576b"
             ],
             [
              0.6666666666666666,
              "#ed7953"
             ],
             [
              0.7777777777777778,
              "#fb9f3a"
             ],
             [
              0.8888888888888888,
              "#fdca26"
             ],
             [
              1,
              "#f0f921"
             ]
            ],
            "type": "contour"
           }
          ],
          "contourcarpet": [
           {
            "colorbar": {
             "outlinewidth": 0,
             "ticks": ""
            },
            "type": "contourcarpet"
           }
          ],
          "heatmap": [
           {
            "colorbar": {
             "outlinewidth": 0,
             "ticks": ""
            },
            "colorscale": [
             [
              0,
              "#0d0887"
             ],
             [
              0.1111111111111111,
              "#46039f"
             ],
             [
              0.2222222222222222,
              "#7201a8"
             ],
             [
              0.3333333333333333,
              "#9c179e"
             ],
             [
              0.4444444444444444,
              "#bd3786"
             ],
             [
              0.5555555555555556,
              "#d8576b"
             ],
             [
              0.6666666666666666,
              "#ed7953"
             ],
             [
              0.7777777777777778,
              "#fb9f3a"
             ],
             [
              0.8888888888888888,
              "#fdca26"
             ],
             [
              1,
              "#f0f921"
             ]
            ],
            "type": "heatmap"
           }
          ],
          "heatmapgl": [
           {
            "colorbar": {
             "outlinewidth": 0,
             "ticks": ""
            },
            "colorscale": [
             [
              0,
              "#0d0887"
             ],
             [
              0.1111111111111111,
              "#46039f"
             ],
             [
              0.2222222222222222,
              "#7201a8"
             ],
             [
              0.3333333333333333,
              "#9c179e"
             ],
             [
              0.4444444444444444,
              "#bd3786"
             ],
             [
              0.5555555555555556,
              "#d8576b"
             ],
             [
              0.6666666666666666,
              "#ed7953"
             ],
             [
              0.7777777777777778,
              "#fb9f3a"
             ],
             [
              0.8888888888888888,
              "#fdca26"
             ],
             [
              1,
              "#f0f921"
             ]
            ],
            "type": "heatmapgl"
           }
          ],
          "histogram": [
           {
            "marker": {
             "pattern": {
              "fillmode": "overlay",
              "size": 10,
              "solidity": 0.2
             }
            },
            "type": "histogram"
           }
          ],
          "histogram2d": [
           {
            "colorbar": {
             "outlinewidth": 0,
             "ticks": ""
            },
            "colorscale": [
             [
              0,
              "#0d0887"
             ],
             [
              0.1111111111111111,
              "#46039f"
             ],
             [
              0.2222222222222222,
              "#7201a8"
             ],
             [
              0.3333333333333333,
              "#9c179e"
             ],
             [
              0.4444444444444444,
              "#bd3786"
             ],
             [
              0.5555555555555556,
              "#d8576b"
             ],
             [
              0.6666666666666666,
              "#ed7953"
             ],
             [
              0.7777777777777778,
              "#fb9f3a"
             ],
             [
              0.8888888888888888,
              "#fdca26"
             ],
             [
              1,
              "#f0f921"
             ]
            ],
            "type": "histogram2d"
           }
          ],
          "histogram2dcontour": [
           {
            "colorbar": {
             "outlinewidth": 0,
             "ticks": ""
            },
            "colorscale": [
             [
              0,
              "#0d0887"
             ],
             [
              0.1111111111111111,
              "#46039f"
             ],
             [
              0.2222222222222222,
              "#7201a8"
             ],
             [
              0.3333333333333333,
              "#9c179e"
             ],
             [
              0.4444444444444444,
              "#bd3786"
             ],
             [
              0.5555555555555556,
              "#d8576b"
             ],
             [
              0.6666666666666666,
              "#ed7953"
             ],
             [
              0.7777777777777778,
              "#fb9f3a"
             ],
             [
              0.8888888888888888,
              "#fdca26"
             ],
             [
              1,
              "#f0f921"
             ]
            ],
            "type": "histogram2dcontour"
           }
          ],
          "mesh3d": [
           {
            "colorbar": {
             "outlinewidth": 0,
             "ticks": ""
            },
            "type": "mesh3d"
           }
          ],
          "parcoords": [
           {
            "line": {
             "colorbar": {
              "outlinewidth": 0,
              "ticks": ""
             }
            },
            "type": "parcoords"
           }
          ],
          "pie": [
           {
            "automargin": true,
            "type": "pie"
           }
          ],
          "scatter": [
           {
            "fillpattern": {
             "fillmode": "overlay",
             "size": 10,
             "solidity": 0.2
            },
            "type": "scatter"
           }
          ],
          "scatter3d": [
           {
            "line": {
             "colorbar": {
              "outlinewidth": 0,
              "ticks": ""
             }
            },
            "marker": {
             "colorbar": {
              "outlinewidth": 0,
              "ticks": ""
             }
            },
            "type": "scatter3d"
           }
          ],
          "scattercarpet": [
           {
            "marker": {
             "colorbar": {
              "outlinewidth": 0,
              "ticks": ""
             }
            },
            "type": "scattercarpet"
           }
          ],
          "scattergeo": [
           {
            "marker": {
             "colorbar": {
              "outlinewidth": 0,
              "ticks": ""
             }
            },
            "type": "scattergeo"
           }
          ],
          "scattergl": [
           {
            "marker": {
             "colorbar": {
              "outlinewidth": 0,
              "ticks": ""
             }
            },
            "type": "scattergl"
           }
          ],
          "scattermapbox": [
           {
            "marker": {
             "colorbar": {
              "outlinewidth": 0,
              "ticks": ""
             }
            },
            "type": "scattermapbox"
           }
          ],
          "scatterpolar": [
           {
            "marker": {
             "colorbar": {
              "outlinewidth": 0,
              "ticks": ""
             }
            },
            "type": "scatterpolar"
           }
          ],
          "scatterpolargl": [
           {
            "marker": {
             "colorbar": {
              "outlinewidth": 0,
              "ticks": ""
             }
            },
            "type": "scatterpolargl"
           }
          ],
          "scatterternary": [
           {
            "marker": {
             "colorbar": {
              "outlinewidth": 0,
              "ticks": ""
             }
            },
            "type": "scatterternary"
           }
          ],
          "surface": [
           {
            "colorbar": {
             "outlinewidth": 0,
             "ticks": ""
            },
            "colorscale": [
             [
              0,
              "#0d0887"
             ],
             [
              0.1111111111111111,
              "#46039f"
             ],
             [
              0.2222222222222222,
              "#7201a8"
             ],
             [
              0.3333333333333333,
              "#9c179e"
             ],
             [
              0.4444444444444444,
              "#bd3786"
             ],
             [
              0.5555555555555556,
              "#d8576b"
             ],
             [
              0.6666666666666666,
              "#ed7953"
             ],
             [
              0.7777777777777778,
              "#fb9f3a"
             ],
             [
              0.8888888888888888,
              "#fdca26"
             ],
             [
              1,
              "#f0f921"
             ]
            ],
            "type": "surface"
           }
          ],
          "table": [
           {
            "cells": {
             "fill": {
              "color": "#EBF0F8"
             },
             "line": {
              "color": "white"
             }
            },
            "header": {
             "fill": {
              "color": "#C8D4E3"
             },
             "line": {
              "color": "white"
             }
            },
            "type": "table"
           }
          ]
         },
         "layout": {
          "annotationdefaults": {
           "arrowcolor": "#2a3f5f",
           "arrowhead": 0,
           "arrowwidth": 1
          },
          "autotypenumbers": "strict",
          "coloraxis": {
           "colorbar": {
            "outlinewidth": 0,
            "ticks": ""
           }
          },
          "colorscale": {
           "diverging": [
            [
             0,
             "#8e0152"
            ],
            [
             0.1,
             "#c51b7d"
            ],
            [
             0.2,
             "#de77ae"
            ],
            [
             0.3,
             "#f1b6da"
            ],
            [
             0.4,
             "#fde0ef"
            ],
            [
             0.5,
             "#f7f7f7"
            ],
            [
             0.6,
             "#e6f5d0"
            ],
            [
             0.7,
             "#b8e186"
            ],
            [
             0.8,
             "#7fbc41"
            ],
            [
             0.9,
             "#4d9221"
            ],
            [
             1,
             "#276419"
            ]
           ],
           "sequential": [
            [
             0,
             "#0d0887"
            ],
            [
             0.1111111111111111,
             "#46039f"
            ],
            [
             0.2222222222222222,
             "#7201a8"
            ],
            [
             0.3333333333333333,
             "#9c179e"
            ],
            [
             0.4444444444444444,
             "#bd3786"
            ],
            [
             0.5555555555555556,
             "#d8576b"
            ],
            [
             0.6666666666666666,
             "#ed7953"
            ],
            [
             0.7777777777777778,
             "#fb9f3a"
            ],
            [
             0.8888888888888888,
             "#fdca26"
            ],
            [
             1,
             "#f0f921"
            ]
           ],
           "sequentialminus": [
            [
             0,
             "#0d0887"
            ],
            [
             0.1111111111111111,
             "#46039f"
            ],
            [
             0.2222222222222222,
             "#7201a8"
            ],
            [
             0.3333333333333333,
             "#9c179e"
            ],
            [
             0.4444444444444444,
             "#bd3786"
            ],
            [
             0.5555555555555556,
             "#d8576b"
            ],
            [
             0.6666666666666666,
             "#ed7953"
            ],
            [
             0.7777777777777778,
             "#fb9f3a"
            ],
            [
             0.8888888888888888,
             "#fdca26"
            ],
            [
             1,
             "#f0f921"
            ]
           ]
          },
          "colorway": [
           "#636efa",
           "#EF553B",
           "#00cc96",
           "#ab63fa",
           "#FFA15A",
           "#19d3f3",
           "#FF6692",
           "#B6E880",
           "#FF97FF",
           "#FECB52"
          ],
          "font": {
           "color": "#2a3f5f"
          },
          "geo": {
           "bgcolor": "white",
           "lakecolor": "white",
           "landcolor": "#E5ECF6",
           "showlakes": true,
           "showland": true,
           "subunitcolor": "white"
          },
          "hoverlabel": {
           "align": "left"
          },
          "hovermode": "closest",
          "mapbox": {
           "style": "light"
          },
          "paper_bgcolor": "white",
          "plot_bgcolor": "#E5ECF6",
          "polar": {
           "angularaxis": {
            "gridcolor": "white",
            "linecolor": "white",
            "ticks": ""
           },
           "bgcolor": "#E5ECF6",
           "radialaxis": {
            "gridcolor": "white",
            "linecolor": "white",
            "ticks": ""
           }
          },
          "scene": {
           "xaxis": {
            "backgroundcolor": "#E5ECF6",
            "gridcolor": "white",
            "gridwidth": 2,
            "linecolor": "white",
            "showbackground": true,
            "ticks": "",
            "zerolinecolor": "white"
           },
           "yaxis": {
            "backgroundcolor": "#E5ECF6",
            "gridcolor": "white",
            "gridwidth": 2,
            "linecolor": "white",
            "showbackground": true,
            "ticks": "",
            "zerolinecolor": "white"
           },
           "zaxis": {
            "backgroundcolor": "#E5ECF6",
            "gridcolor": "white",
            "gridwidth": 2,
            "linecolor": "white",
            "showbackground": true,
            "ticks": "",
            "zerolinecolor": "white"
           }
          },
          "shapedefaults": {
           "line": {
            "color": "#2a3f5f"
           }
          },
          "ternary": {
           "aaxis": {
            "gridcolor": "white",
            "linecolor": "white",
            "ticks": ""
           },
           "baxis": {
            "gridcolor": "white",
            "linecolor": "white",
            "ticks": ""
           },
           "bgcolor": "#E5ECF6",
           "caxis": {
            "gridcolor": "white",
            "linecolor": "white",
            "ticks": ""
           }
          },
          "title": {
           "x": 0.05
          },
          "xaxis": {
           "automargin": true,
           "gridcolor": "white",
           "linecolor": "white",
           "ticks": "",
           "title": {
            "standoff": 15
           },
           "zerolinecolor": "white",
           "zerolinewidth": 2
          },
          "yaxis": {
           "automargin": true,
           "gridcolor": "white",
           "linecolor": "white",
           "ticks": "",
           "title": {
            "standoff": 15
           },
           "zerolinecolor": "white",
           "zerolinewidth": 2
          }
         }
        },
        "title": {
         "text": "Simplicial Complex for Text 2"
        }
       }
      },
      "image/png": "[encoded data removed]"
     },
     "metadata": {},
     "output_type": "display_data"
    }
   ],
   "source": [
    "import numpy as np\n",
    "import torch\n",
    "from transformers import GPT2Tokenizer, GPT2Model\n",
    "import gudhi as gd\n",
    "import matplotlib.pyplot as plt\n",
    "import networkx as nx\n",
    "from scipy.spatial.distance import jensenshannon\n",
    "import plotly.graph_objs as go\n",
    "\n",
    "\n",
    "def get_attention_matrix(text, model, tokenizer, layer, head):\n",
    "    inputs = tokenizer(text, return_tensors=\"pt\")\n",
    "    outputs = model(**inputs, output_attentions=True)\n",
    "    attention = outputs.attentions[layer][0, head].detach().cpu().numpy()\n",
    "    return attention\n",
    "\n",
    "def compute_persistence(attention_matrix):\n",
    "    softmax_attention = np.exp(attention_matrix) / np.sum(np.exp(attention_matrix), axis=-1)[:, np.newaxis]\n",
    "    distance_matrix = np.array([[jensenshannon(softmax_attention[i], softmax_attention[j]) for j in range(softmax_attention.shape[0])] for i in range(softmax_attention.shape[0])])\n",
    "    \n",
    "    rips_complex = gd.RipsComplex(distance_matrix=distance_matrix, max_edge_length=np.inf)\n",
    "    simplex_tree = rips_complex.create_simplex_tree(max_dimension=2)\n",
    "    persistence = simplex_tree.persistence(min_persistence=0.01)\n",
    "    return persistence, simplex_tree, distance_matrix\n",
    "\n",
    "def plot_simplicial_complex_3d(simplex_tree, distance_matrix, title, threshold, tokens):\n",
    "    g = nx.Graph()\n",
    "    for (simplex, _) in simplex_tree.get_filtration():\n",
    "        if len(simplex) == 2:\n",
    "            if distance_matrix[simplex[0]][simplex[1]] <= threshold:\n",
    "                g.add_edge(simplex[0], simplex[1])\n",
    "\n",
    "    # Create a token dictionary only for nodes in the graph\n",
    "    labels = {node: tokens[node] for node in g.nodes()}\n",
    "    \n",
    "    # 3D layout\n",
    "    pos = nx.spring_layout(g, dim=3, seed=42)\n",
    "    \n",
    "    # Extract node coordinates\n",
    "    Xn = [pos[k][0] for k in g.nodes()]\n",
    "    Yn = [pos[k][1] for k in g.nodes()]\n",
    "    Zn = [pos[k][2] for k in g.nodes()]\n",
    "    \n",
    "    # Extract edge coordinates\n",
    "    Xe = []\n",
    "    Ye = []\n",
    "    Ze = []\n",
    "    for e in g.edges():\n",
    "        Xe += [pos[e[0]][0], pos[e[1]][0], None]\n",
    "        Ye += [pos[e[0]][1], pos[e[1]][1], None]\n",
    "        Ze += [pos[e[0]][2], pos[e[1]][2], None]\n",
    "    \n",
    "    # Create a trace for edges\n",
    "    trace_edges = go.Scatter3d(x=Xe, y=Ye, z=Ze, mode='lines', line=dict(color='gray', width=1))\n",
    "    \n",
    "    # Create a trace for nodes\n",
    "    trace_nodes = go.Scatter3d(x=Xn, y=Yn, z=Zn, mode='markers+text', text=list(labels.values()), marker=dict(symbol='circle', size=10, color='lightblue'), textposition=\"top center\")\n",
    "    \n",
    "    # Create a layout\n",
    "    layout = go.Layout(title=title, scene=dict(xaxis_title='X', yaxis_title='Y', zaxis_title='Z'), showlegend=False)\n",
    "    \n",
    "    # Create a plot\n",
    "    fig = go.Figure(data=[trace_edges, trace_nodes], layout=layout)\n",
    "    fig.show()\n",
    "\n",
    "\n",
    "# Load pre-trained transformer model and tokenizer\n",
    "tokenizer = GPT2Tokenizer.from_pretrained('gpt2')\n",
    "model = GPT2Model.from_pretrained('gpt2')\n",
    "\n",
    "# Text inputs\n",
    "text1 = \"Quantum information theory is interesting\"\n",
    "text2 = \"Quantum information theory allows us to study attention using entanglement\"\n",
    "\n",
    "# Choose a layer and head\n",
    "layer = 1\n",
    "head = 2\n",
    "\n",
    "# Get attention matrices\n",
    "attention_matrix1 = get_attention_matrix(text1, model, tokenizer, layer, head)\n",
    "attention_matrix2 = get_attention_matrix(text2, model, tokenizer, layer, head)\n",
    "\n",
    "# Compute persistence and simplex trees\n",
    "persistence1, simplex_tree1, distance_matrix1 = compute_persistence(attention_matrix1)\n",
    "persistence2, simplex_tree2, distance_matrix2 = compute_persistence(attention_matrix2)\n",
    "\n",
    "# Threshold value\n",
    "threshold = 0.05\n",
    "\n",
    "# Get tokens\n",
    "tokens1 = tokenizer.tokenize(text1)\n",
    "tokens2 = tokenizer.tokenize(text2)\n",
    "\n",
    "# Add special tokens ([CLS], [SEP], etc.) if necessary\n",
    "tokens1 = [tokenizer.decode(token_id) for token_id in tokenizer.encode(text1)]\n",
    "tokens2 = [tokenizer.decode(token_id) for token_id in tokenizer.encode(text2)]\n",
    "\n",
    "plot_simplicial_complex_3d(simplex_tree1, distance_matrix1, \"Simplicial Complex for Text 1\", threshold, tokens1)\n",
    "plot_simplicial_complex_3d(simplex_tree2, distance_matrix2, \"Simplicial Complex for Text 2\", threshold, tokens2)\n"
   ]
  },
  {
   "cell_type": "markdown",
   "id": "20f89615-4006-4d52-a0e2-d7b59723731d",
   "metadata": {},
   "source": [
    "### Prompter: \n",
    "Referencing the code above, could you please ellaborate on the nature of graph grammars on the $1$-skeleton of the simplicial complexes obtained from the persistent homology of the Jensen-Shannon distance between the softmax of the attention mechanism applied to two input texts. \n",
    "The graph grammar, in this context, refers to the set of rules and operations that describe how the graph structure, representing the 1-skeleton of the simplicial complex, is formed and how it evolves. The 1-skeleton of a simplicial complex is essentially the set of vertices and edges, without higher-dimensional simplices (like triangles or tetrahedra). In the code above, we obtain the 1-skeleton of the simplicial complex by constructing a graph from the simplex tree based on a threshold value for the distance matrix.\n",
    "\n",
    "### ChatGPT:\n",
    "The graph is generated from the Jensen-Shannon (JS) distance between the softmax of the attention mechanism applied to two input texts. The JS distance measures the similarity between two probability distributions, in this case, the softmax distributions of attention weights. By calculating the pairwise JS distance between all attention distributions, a distance matrix is formed. The distance matrix is then used to construct a Rips complex using the GUDHI library. The Rips complex is a simplicial complex that represents the topological structure of the data.\n",
    "\n",
    "Persistent homology is used to identify and quantify the topological features of the simplicial complex that persist across multiple distance scales. In the code, the persistence value is set to 0.01, which filters out short-lived topological features.\n",
    "\n",
    "To obtain the 1-skeleton, a graph is created by iterating through the filtration of the simplex tree and adding edges between vertices if their corresponding JS distance is less than or equal to the chosen threshold. The graph's nodes represent the tokens in the input text, and the edges represent the relationships between the tokens based on the attention mechanism's softmax output.\n",
    "\n",
    "The graph grammar, in this case, depends on the threshold value applied to the JS distance matrix. A lower threshold value will result in a sparser graph with fewer edges, while a higher threshold will produce a denser graph with more connections between tokens. The resulting graph structure can be used to study the relationships between tokens in the text, as captured by the attention mechanism of the transformer model.\n",
    "\n",
    "In summary, the graph grammar for the 1-skeleton of the simplicial complex is determined by the threshold applied to the distance matrix, which is derived from the JS distance between the softmax of the attention mechanism applied to the input texts. The graph structure represents the relationships between tokens in the text based on the attention mechanism's output and can provide insights into the underlying structure and organization of the text."
   ]
  },
  {
   "cell_type": "markdown",
   "id": "076ba741-dcff-4c80-8b70-327b24ffbd8b",
   "metadata": {},
   "source": [
    "---\n",
    "This isn't exactly the response I was looking for, but it's summary of what the code doesa. There relly isn't a good explanation of how graph grammars can be used in this context that I have found though."
   ]
  },
  {
   "cell_type": "code",
   "execution_count": null,
   "id": "e55b1fd7-dbd7-437d-aafe-9ba2029d135f",
   "metadata": {},
   "outputs": [],
   "source": []
  }
 ],
 "metadata": {
  "kernelspec": {
   "display_name": "Python 3.8.5 64-bit ('anaconda3': virtualenv)",
   "language": "python",
   "name": "python385jvsc74a57bd0474c67ce7e36ad5731492349411c4ce02ca5c170a680b2d1efe1eb0325e35fe7"
  },
  "language_info": {
   "codemirror_mode": {
    "name": "ipython",
    "version": 3
   },
   "file_extension": ".py",
   "mimetype": "text/x-python",
   "name": "python",
   "nbconvert_exporter": "python",
   "pygments_lexer": "ipython3",
   "version": "3.9.13"
  }
 },
 "nbformat": 4,
 "nbformat_minor": 5
}
