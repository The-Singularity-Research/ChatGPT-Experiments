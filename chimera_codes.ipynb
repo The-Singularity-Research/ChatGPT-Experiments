{
 "cells": [
  {
   "cell_type": "code",
   "execution_count": 1,
   "id": "8b022003",
   "metadata": {},
   "outputs": [
    {
     "name": "stdout",
     "output_type": "stream",
     "text": [
      "Note: you may need to restart the kernel to use updated packages.\n"
     ]
    }
   ],
   "source": [
    "pip install cirq -q"
   ]
  },
  {
   "cell_type": "markdown",
   "id": "4aa8245b",
   "metadata": {},
   "source": [
    "# Clock, Shift, and Fourier Operators"
   ]
  },
  {
   "cell_type": "markdown",
   "id": "713add69",
   "metadata": {},
   "source": [
    "In quantum computing, there are generalizations of qubits (two-level systems) such as spin-$1/2$ particles to *qudits* (d-level systems) such as higher spin particles. To generalize quantum computing to this scenario, we need to generalize the gates or operators acting on qubits (or density matrices). Implementing these gates is a necessary step in developing a generalization of error correcting codes known as *surface codes*. In particular, if we wish to model the quantum information of systems with various particles of differing spin, that is $d$-level systems represented by qudits of differing dimensions, we must generalize not only the gates operating on individual qudits, but also those multi-qudit gates that model entanglement of two or more qudits. \n",
    "\n",
    "The generalization of single qudit gates involves constructing several gates that form a universal gate set for quantum computation. In this notebook, we construct several of these gates and create a sufficient list of gates for quantum computing. We begin with the following two gates. "
   ]
  },
  {
   "cell_type": "markdown",
   "id": "118d7bbb-bf72-4979-a41b-86c0d31d5f30",
   "metadata": {},
   "source": [
    "Shift (or generalized $X$-gate) operator matrix:"
   ]
  },
  {
   "cell_type": "markdown",
   "id": "ede29650-cb25-476b-91f3-53966d9ae07d",
   "metadata": {},
   "source": [
    "$$\n",
    "S =\n",
    "\\begin{pmatrix}\n",
    "0 & 1 & 0 & \\cdots & 0 \\\\\n",
    "0 & 0 & 1 & \\cdots & 0 \\\\\n",
    "\\vdots & \\vdots & \\vdots & \\ddots & \\vdots \\\\\n",
    "0 & 0 & 0 & \\cdots & 1 \\\\\n",
    "1 & 0 & 0 & \\cdots & 0\n",
    "\\end{pmatrix}\n",
    "$$"
   ]
  },
  {
   "cell_type": "markdown",
   "id": "9d57e871",
   "metadata": {},
   "source": [
    "Note, some authors may use the transpose of this matrix as the shift operator. The next gate we need is the, Fourier (or generalized Hadamard gate) operator matrix:"
   ]
  },
  {
   "cell_type": "markdown",
   "id": "1923f023-c0e7-4e36-b024-cea35fe081cf",
   "metadata": {},
   "source": [
    "$$\n",
    "C =\n",
    "\\begin{pmatrix}\n",
    "1 & 1 & 1 & \\cdots & 1 \\\\\n",
    "1 & e^{2πi/n} & e^{4πi/n} & \\cdots & e^{2(n-1)πi/n} \\\\\n",
    "1 & e^{4πi/n} & e^{8πi/n} & \\cdots & e^{4(n-1)πi/n} \\\\\n",
    "\\vdots & \\vdots & \\vdots & \\ddots & \\vdots \\\\\n",
    "1 & e^{2(n-1)πi/n} & e^{4(n-1)πi/n} & \\cdots & e^{2(n-1)^2πi/n}\n",
    "\\end{pmatrix}\n",
    "$$"
   ]
  },
  {
   "cell_type": "markdown",
   "id": "4dfc64a0",
   "metadata": {},
   "source": [
    "Here is some code to construct these two matrix gates using Cirq. "
   ]
  },
  {
   "cell_type": "code",
   "execution_count": 2,
   "id": "ae3eb8a0-175c-4665-9ded-fca378042854",
   "metadata": {},
   "outputs": [
    {
     "name": "stdout",
     "output_type": "stream",
     "text": [
      "Shift matrix:\n",
      "[[0.+0.j 0.+0.j 0.+0.j 0.+0.j 1.+0.j]\n",
      " [1.+0.j 0.+0.j 0.+0.j 0.+0.j 0.+0.j]\n",
      " [0.+0.j 1.+0.j 0.+0.j 0.+0.j 0.+0.j]\n",
      " [0.+0.j 0.+0.j 1.+0.j 0.+0.j 0.+0.j]\n",
      " [0.+0.j 0.+0.j 0.+0.j 1.+0.j 0.+0.j]]\n",
      "\n",
      "Clock matrix:\n",
      "[[ 1.        +0.j          1.        +0.j          1.        +0.j\n",
      "   1.        +0.j          1.        +0.j        ]\n",
      " [ 1.        +0.j          0.30901699+0.95105652j -0.80901699+0.58778525j\n",
      "  -0.80901699-0.58778525j  0.30901699-0.95105652j]\n",
      " [ 1.        +0.j         -0.80901699+0.58778525j  0.30901699-0.95105652j\n",
      "   0.30901699+0.95105652j -0.80901699-0.58778525j]\n",
      " [ 1.        +0.j         -0.80901699-0.58778525j  0.30901699+0.95105652j\n",
      "   0.30901699-0.95105652j -0.80901699+0.58778525j]\n",
      " [ 1.        +0.j          0.30901699-0.95105652j -0.80901699-0.58778525j\n",
      "  -0.80901699+0.58778525j  0.30901699+0.95105652j]]\n",
      "\n"
     ]
    }
   ],
   "source": [
    "import cirq\n",
    "import numpy as np\n",
    "\n",
    "def get_shift_matrix(n: int) -> np.ndarray:\n",
    "    S = np.zeros((n, n), dtype=np.complex128)\n",
    "    for i in range(n):\n",
    "        S[(i + 1) % n][i] = 1\n",
    "    return S\n",
    "\n",
    "def get_clock_matrix(n: int) -> np.ndarray:\n",
    "    C = np.zeros((n, n), dtype=np.complex128)\n",
    "    for i in range(n):\n",
    "        for j in range(n):\n",
    "            C[i][j] = np.exp(2j * np.pi * i * j / n)\n",
    "    return C\n",
    "\n",
    "# Test the code for n = 3\n",
    "n = 5\n",
    "S = get_shift_matrix(n)\n",
    "C = get_clock_matrix(n)\n",
    "print(f\"Shift matrix:\\n{S}\\n\")\n",
    "print(f\"Clock matrix:\\n{C}\\n\")\n"
   ]
  },
  {
   "cell_type": "markdown",
   "id": "680792fc-04fd-4464-8fe8-fe5cb87e2b26",
   "metadata": {},
   "source": [
    "The *clock matrix* is denoted by $C$ and is a diagonal matrix with entries $e^{2\\pi i n/N}$, where $n$ runs from $0$ to $N-1$ and $N$ is the size of the system. In other words, the diagonal entries of the clock matrix are the $N$th roots of unity. The general form of the clock matrix is:\n",
    "\n",
    "$$\n",
    "\\begin{pmatrix}\n",
    "1 & 0 & 0 & \\cdots & 0 \\\\\n",
    "0 & e^{2\\pi i/N} & 0 & \\cdots & 0 \\\\\n",
    "0 & 0 & e^{4\\pi i/N} & \\cdots & 0 \\\\\n",
    "\\vdots & \\vdots & \\vdots & \\ddots & \\vdots \\\\\n",
    "0 & 0 & 0 & \\cdots & e^{2\\pi i (N-1)/N} \\\\\n",
    "\\end{pmatrix} $$\n",
    "\n",
    "\n",
    "Note that the shift matrix is a cyclic permutation matrix that corresponds to shifting the system by one site, while the clock matrix contains information about the periodicity of the system. Together, the clock and shift matrices generate the so-called \"Heisenberg group,\" which is a fundamental mathematical structure that arises in the study of quantum mechanics on periodic lattices."
   ]
  },
  {
   "cell_type": "markdown",
   "id": "000ef1a0-272f-4435-b0f2-f6cb2f4d2219",
   "metadata": {},
   "source": [
    "Here we implement Cirq code to take as input the dimension n, and give as output the clock and shift matrix as operators on a qudit of dimension n. "
   ]
  },
  {
   "cell_type": "code",
   "execution_count": 3,
   "id": "7afa99d8-98b7-4d7d-a84e-37967017c627",
   "metadata": {},
   "outputs": [],
   "source": [
    "import cirq\n",
    "import numpy as np\n",
    "\n",
    "def clock_shift_matrices(n: int):\n",
    "    # Define the clock matrix\n",
    "    clock_mat = np.zeros((n, n), dtype=np.complex128)\n",
    "    for i in range(n):\n",
    "        clock_mat[i, i] = np.exp(2j * np.pi * i / n)\n",
    "    clock_op = cirq.MatrixGate(clock_mat, qid_shape=(n,))\n",
    "\n",
    "    # Define the shift matrix\n",
    "    shift_mat = np.roll(np.eye(n), -1, axis=0)\n",
    "    shift_op = cirq.MatrixGate(shift_mat, qid_shape=(n,))\n",
    "\n",
    "    return clock_op, shift_op\n"
   ]
  },
  {
   "cell_type": "markdown",
   "id": "e4aa31ed-32a6-45d8-9dde-79ea953917a5",
   "metadata": {},
   "source": [
    "The only change we made is to add the qid_shape argument with value (n,) to the MatrixGate constructor.\n",
    "\n",
    "You can now use the clock_shift_matrices function with the modification that the MatrixGate objects have qid_shape set to (n,). Here's an example usage:"
   ]
  },
  {
   "cell_type": "code",
   "execution_count": 4,
   "id": "04d40b02-8f40-491f-a015-3fc6b300fec3",
   "metadata": {},
   "outputs": [
    {
     "name": "stdout",
     "output_type": "stream",
     "text": [
      "Clock matrix:\n",
      " [[ 1.        +0.j          0.        +0.j          0.        +0.j\n",
      "   0.        +0.j          0.        +0.j        ]\n",
      " [ 0.        +0.j          0.30901699+0.95105652j  0.        +0.j\n",
      "   0.        +0.j          0.        +0.j        ]\n",
      " [ 0.        +0.j          0.        +0.j         -0.80901699+0.58778525j\n",
      "   0.        +0.j          0.        +0.j        ]\n",
      " [ 0.        +0.j          0.        +0.j          0.        +0.j\n",
      "  -0.80901699-0.58778525j  0.        +0.j        ]\n",
      " [ 0.        +0.j          0.        +0.j          0.        +0.j\n",
      "   0.        +0.j          0.30901699-0.95105652j]]\n",
      "Shift matrix:\n",
      " [[0. 1. 0. 0. 0.]\n",
      " [0. 0. 1. 0. 0.]\n",
      " [0. 0. 0. 1. 0.]\n",
      " [0. 0. 0. 0. 1.]\n",
      " [1. 0. 0. 0. 0.]]\n"
     ]
    }
   ],
   "source": [
    "n = 5\n",
    "clock_op, shift_op = clock_shift_matrices(n)\n",
    "\n",
    "print(\"Clock matrix:\\n\", cirq.unitary(clock_op))\n",
    "print(\"Shift matrix:\\n\", cirq.unitary(shift_op))\n"
   ]
  },
  {
   "cell_type": "markdown",
   "id": "c43a539a-2f5e-44fb-95af-17c25515a936",
   "metadata": {},
   "source": [
    "Now we would like to construct some multi-qudit gates that entangle two qudits. Gates that usually perform this entangling in quantum computing are the `CZ` or controlled-phase gate, and the `CX` or `CNOT` gates. To generalize these gates we need to construct controlled-shift and controlled-clock operators. Here is the `controlled_clock` function to generalize the `CZ` gate. "
   ]
  },
  {
   "cell_type": "code",
   "execution_count": 5,
   "id": "ec12d3c3-0be4-4204-b699-786f8d0410ff",
   "metadata": {},
   "outputs": [],
   "source": [
    "import cirq\n",
    "import numpy as np\n",
    "\n",
    "def controlled_clock(n: int, control: cirq.Qid, target: cirq.Qid):\n",
    "    # Define the clock matrix\n",
    "    clock_mat = np.zeros((n, n), dtype=np.complex128)\n",
    "    for i in range(n):\n",
    "        clock_mat[i, i] = np.exp(2j * np.pi * i / n)\n",
    "    clock_op = cirq.MatrixGate(clock_mat, qid_shape=(n,))\n",
    "\n",
    "    # Define the controlled clock gate\n",
    "    cclock_op = cirq.ControlledGate(clock_op, num_controls=1)\n",
    "\n",
    "    # Define the circuit\n",
    "    circuit = cirq.Circuit()\n",
    "    circuit.append(cclock_op(control, target))\n",
    "\n",
    "    return circuit\n",
    "\n"
   ]
  },
  {
   "cell_type": "code",
   "execution_count": 6,
   "id": "5775633b-55b3-4134-8698-2ce6bc0efe14",
   "metadata": {},
   "outputs": [
    {
     "name": "stdout",
     "output_type": "stream",
     "text": [
      "0: ─────────@─────────────────────────────────────────────────────────────────────────\n",
      "            │\n",
      "            ┌                                                                     ┐\n",
      "            │ 1.   +0.j     0.   +0.j     0.   +0.j     0.   +0.j     0.   +0.j   │\n",
      "            │ 0.   +0.j     0.309+0.951j  0.   +0.j     0.   +0.j     0.   +0.j   │\n",
      "1 (d=5): ───│ 0.   +0.j     0.   +0.j    -0.809+0.588j  0.   +0.j     0.   +0.j   │───\n",
      "            │ 0.   +0.j     0.   +0.j     0.   +0.j    -0.809-0.588j  0.   +0.j   │\n",
      "            │ 0.   +0.j     0.   +0.j     0.   +0.j     0.   +0.j     0.309-0.951j│\n",
      "            └                                                                     ┘\n"
     ]
    }
   ],
   "source": [
    "n = 5\n",
    "control = cirq.LineQubit(0)\n",
    "target = cirq.LineQid(1, dimension=n)\n",
    "\n",
    "circuit = controlled_clock(n, control, target)\n",
    "print(circuit)\n"
   ]
  },
  {
   "cell_type": "markdown",
   "id": "4541462c",
   "metadata": {},
   "source": [
    "Here is an alternate implementation. "
   ]
  },
  {
   "cell_type": "code",
   "execution_count": 7,
   "id": "4b01aedd-8bd9-4a1d-9956-198a5bcae382",
   "metadata": {},
   "outputs": [
    {
     "name": "stdout",
     "output_type": "stream",
     "text": [
      "Controlled Clock Matrix Gate:\n",
      "[[ 1.        +0.j          0.        +0.j          0.        +0.j\n",
      "   0.        +0.j          0.        +0.j          0.        +0.j\n",
      "   0.        +0.j          0.        +0.j          0.        +0.j\n",
      "   0.        +0.j        ]\n",
      " [ 0.        +0.j          1.        +0.j          0.        +0.j\n",
      "   0.        +0.j          0.        +0.j          0.        +0.j\n",
      "   0.        +0.j          0.        +0.j          0.        +0.j\n",
      "   0.        +0.j        ]\n",
      " [ 0.        +0.j          0.        +0.j          1.        +0.j\n",
      "   0.        +0.j          0.        +0.j          0.        +0.j\n",
      "   0.        +0.j          0.        +0.j          0.        +0.j\n",
      "   0.        +0.j        ]\n",
      " [ 0.        +0.j          0.        +0.j          0.        +0.j\n",
      "   1.        +0.j          0.        +0.j          0.        +0.j\n",
      "   0.        +0.j          0.        +0.j          0.        +0.j\n",
      "   0.        +0.j        ]\n",
      " [ 0.        +0.j          0.        +0.j          0.        +0.j\n",
      "   0.        +0.j          1.        +0.j          0.        +0.j\n",
      "   0.        +0.j          0.        +0.j          0.        +0.j\n",
      "   0.        +0.j        ]\n",
      " [ 0.        +0.j          0.        +0.j          0.        +0.j\n",
      "   0.        +0.j          0.        +0.j          1.        +0.j\n",
      "   0.        +0.j          0.        +0.j          0.        +0.j\n",
      "   0.        +0.j        ]\n",
      " [ 0.        +0.j          0.        +0.j          0.        +0.j\n",
      "   0.        +0.j          0.        +0.j          0.        +0.j\n",
      "   0.30901699+0.95105652j  0.        +0.j          0.        +0.j\n",
      "   0.        +0.j        ]\n",
      " [ 0.        +0.j          0.        +0.j          0.        +0.j\n",
      "   0.        +0.j          0.        +0.j          0.        +0.j\n",
      "   0.        +0.j         -0.80901699+0.58778525j  0.        +0.j\n",
      "   0.        +0.j        ]\n",
      " [ 0.        +0.j          0.        +0.j          0.        +0.j\n",
      "   0.        +0.j          0.        +0.j          0.        +0.j\n",
      "   0.        +0.j          0.        +0.j         -0.80901699-0.58778525j\n",
      "   0.        +0.j        ]\n",
      " [ 0.        +0.j          0.        +0.j          0.        +0.j\n",
      "   0.        +0.j          0.        +0.j          0.        +0.j\n",
      "   0.        +0.j          0.        +0.j          0.        +0.j\n",
      "   0.30901699-0.95105652j]]\n"
     ]
    }
   ],
   "source": [
    "import cirq\n",
    "import numpy as np\n",
    "\n",
    "def controlled_clock(n: int, control: cirq.Qid, target: cirq.Qid):\n",
    "    # Define the clock matrix\n",
    "    clock_mat = np.zeros((n, n), dtype=np.complex128)\n",
    "    for i in range(n):\n",
    "        clock_mat[i, i] = np.exp(2j * np.pi * i / n)\n",
    "    clock_op = cirq.MatrixGate(clock_mat, qid_shape=(n,))\n",
    "\n",
    "    # Define the controlled clock gate\n",
    "    cclock_op = cirq.ControlledGate(clock_op, num_controls=1)\n",
    "\n",
    "    # Define the circuit\n",
    "    circuit = cirq.Circuit()\n",
    "    circuit.append(cclock_op(control, target))\n",
    "\n",
    "    return circuit\n",
    "\n",
    "# Define the qudit and qubit\n",
    "n = 5\n",
    "control = cirq.LineQubit(0)\n",
    "target = cirq.LineQid(1, dimension=n)\n",
    "\n",
    "# Create the circuit\n",
    "circuit = controlled_clock(n, control, target)\n",
    "\n",
    "# Get the matrix of the circuit\n",
    "unitary = circuit.unitary()\n",
    "\n",
    "# Print the matrix\n",
    "print(\"Controlled Clock Matrix Gate:\")\n",
    "print(unitary)\n"
   ]
  },
  {
   "cell_type": "markdown",
   "id": "1f305340",
   "metadata": {},
   "source": [
    "Entangling a qubit and a qutrit ($3$-level system) can be done as follows. "
   ]
  },
  {
   "cell_type": "code",
   "execution_count": 8,
   "id": "c83ffba1-609b-4aeb-bea8-af167ca1bec8",
   "metadata": {},
   "outputs": [
    {
     "name": "stdout",
     "output_type": "stream",
     "text": [
      "0 (d=3): ───────#2────────────────────────────────────────────\n",
      "                │\n",
      "                ┌                                         ┐\n",
      "                │1.+0.j 0.+0.j 0.+0.j 0.+0.j 0.+0.j 0.+0.j│\n",
      "                │0.+0.j 1.+0.j 0.+0.j 0.+0.j 0.+0.j 0.+0.j│\n",
      "1 (d=2): ───H───│0.+0.j 0.+0.j 1.+0.j 0.+0.j 0.+0.j 0.+0.j│───\n",
      "                │0.+0.j 0.+0.j 0.+0.j 1.+0.j 0.+0.j 0.+0.j│\n",
      "                │0.+0.j 0.+0.j 0.+0.j 0.+0.j 1.+0.j 0.+0.j│\n",
      "                │0.+0.j 0.+0.j 0.+0.j 0.+0.j 0.+0.j 0.+1.j│\n",
      "                └                                         ┘\n"
     ]
    }
   ],
   "source": [
    "import cirq\n",
    "import numpy as np\n",
    "\n",
    "# Define the qutrit and qubit\n",
    "qutrit = cirq.LineQid(0, dimension=3)\n",
    "qubit = cirq.LineQid(1, dimension=2)\n",
    "\n",
    "# Define the circuit\n",
    "circuit = cirq.Circuit()\n",
    "\n",
    "# Apply a Hadamard gate to the qubit to put it in a superposition of |0⟩ and |1⟩\n",
    "circuit.append(cirq.H(qubit))\n",
    "\n",
    "# Define a unitary matrix for the controlled-phase gate\n",
    "cp_matrix = np.array([[1, 0, 0, 0, 0, 0], [0, 1, 0, 0, 0, 0], [0, 0, 1, 0, 0, 0],\n",
    "                      [0, 0, 0, 1, 0, 0], [0, 0, 0, 0, 1, 0], [0, 0, 0, 0, 0, np.exp(1j*np.pi/2)]])\n",
    "\n",
    "# Define a matrix gate using the cp_matrix with qid_shape specified\n",
    "cp_gate = cirq.MatrixGate(cp_matrix, qid_shape=(2, 3))\n",
    "\n",
    "# Apply the controlled-phase gate to entangle the qubit and qutrit\n",
    "circuit.append(cp_gate(qubit, qutrit))\n",
    "\n",
    "# Print the circuit\n",
    "print(circuit)\n"
   ]
  },
  {
   "cell_type": "markdown",
   "id": "47d0c959-5edf-4dcd-ab2e-3616dda16ed4",
   "metadata": {},
   "source": [
    "More generally, we can construct controlled-U gates for random unitary matrices $U \\in U(n)$ to entangle qubits with qudits. Given a bipartite dessin d'enfant, we can then construct a perturbation of chimera codes (since controlled-shift and controlled-clock operators are the more standard choice of gates used for entangling). This allows us to study two things. First, it could allow for custom AI-designed entangling gates for specific hardware backends, that might allow for more optimal error correction and computation. This could also be studied as purturbations of surface codes and could be thought of as modelling errors or noise in chimera surface codes. "
   ]
  },
  {
   "cell_type": "code",
   "execution_count": 9,
   "id": "5ce7b138-74e7-4102-a926-d7b13370baab",
   "metadata": {},
   "outputs": [
    {
     "name": "stdout",
     "output_type": "stream",
     "text": [
      "            ┌                                                                     ┐\n",
      "            │ 0.269+0.122j -0.099-0.426j -0.723+0.25j   0.337-0.001j  0.144-0.033j│\n",
      "            │-0.256+0.234j -0.523-0.284j  0.209+0.118j  0.034+0.658j -0.12 +0.14j │\n",
      "0 (d=5): ───│ 0.15 -0.153j -0.165-0.332j  0.097-0.342j  0.237-0.259j -0.747-0.099j│───\n",
      "            │-0.136-0.349j  0.457-0.197j  0.238+0.252j  0.49 +0.099j  0.002+0.492j│\n",
      "            │-0.071-0.776j -0.258+0.051j -0.142-0.3j    0.104+0.261j  0.274-0.245j│\n",
      "            └                                                                     ┘\n",
      "            │\n",
      "1: ─────────@─────────────────────────────────────────────────────────────────────────\n"
     ]
    }
   ],
   "source": [
    "import scipy.stats as stats\n",
    "import cirq\n",
    "\n",
    "# Define the qubit and qudit\n",
    "n = 5\n",
    "control_qubit = cirq.LineQubit(1)\n",
    "target_qudit = cirq.LineQid(0, dimension=n)\n",
    "\n",
    "# Generate a random unitary matrix of dimension n\n",
    "random_unitary = stats.unitary_group.rvs(n)\n",
    "\n",
    "# Define a gate that applies the random unitary matrix to the target qudit\n",
    "# random_unitary_gate = cirq.MatrixGate(random_unitary).on(target_qudit)\n",
    "random_unitary_gate = cirq.MatrixGate(random_unitary, qid_shape=(n,))\n",
    "\n",
    "\n",
    "# Define a controlled version of the target gate using the control qubit\n",
    "controlled_gate = cirq.ControlledGate(random_unitary_gate).on(control_qubit, target_qudit)\n",
    "\n",
    "# Create a circuit and add the controlled target gate to it\n",
    "circuit = cirq.Circuit()\n",
    "circuit.append(controlled_gate)\n",
    "\n",
    "# Print the circuit to verify it\n",
    "print(circuit)\n"
   ]
  },
  {
   "cell_type": "markdown",
   "id": "b356a515",
   "metadata": {},
   "source": [
    "From here, we can construct a surface code or graph state using these $2$-qudit gates as entangling operators to build a generalization to surface codes called **\"chimera codes\"**. "
   ]
  },
  {
   "cell_type": "code",
   "execution_count": null,
   "id": "d2a0b7fd-c247-4f54-b7f6-d1071512e493",
   "metadata": {},
   "outputs": [],
   "source": []
  }
 ],
 "metadata": {
  "kernelspec": {
   "display_name": "Python 3 (ipykernel)",
   "language": "python",
   "name": "python3"
  },
  "language_info": {
   "codemirror_mode": {
    "name": "ipython",
    "version": 3
   },
   "file_extension": ".py",
   "mimetype": "text/x-python",
   "name": "python",
   "nbconvert_exporter": "python",
   "pygments_lexer": "ipython3",
   "version": "3.9.13"
  }
 },
 "nbformat": 4,
 "nbformat_minor": 5
}
