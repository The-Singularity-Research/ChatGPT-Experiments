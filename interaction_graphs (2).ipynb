{
 "cells": [
  {
   "cell_type": "markdown",
   "id": "edc9fd8d-837a-4dd9-9be8-9273a0ab7c3d",
   "metadata": {},
   "source": [
    "# Transpiling Circuits and Obtaining Interaction Graphs"
   ]
  },
  {
   "cell_type": "markdown",
   "id": "3acbd16a-b192-4aab-bb1f-45e60274ffda",
   "metadata": {},
   "source": [
    "Here we implement code using ChatGPT to obtain (unweighted) interaction graphs based on using the Qiskit transpiler. This can be compared to the uncompiled circuits' interaction graphs. This can also be used to design Hardware ASICs for specific algorithms. This is a partial implementation of the paper [Interaction graph-based characterization of quantum benchmarks for improving quantum circuit mapping techniques](https://arxiv.org/abs/2212.06640)."
   ]
  },
  {
   "cell_type": "code",
   "execution_count": 1,
   "id": "75ede1f7-992d-4ffe-8d8f-56f15f3478ea",
   "metadata": {},
   "outputs": [
    {
     "name": "stdout",
     "output_type": "stream",
     "text": [
      "        ┌─────────────┐           ░ ┌─┐      \n",
      "   q_0: ┤ U3(π/2,0,π) ├──■────────░─┤M├──────\n",
      "        └─────────────┘┌─┴─┐      ░ └╥┘┌─┐   \n",
      "   q_1: ───────────────┤ X ├──■───░──╫─┤M├───\n",
      "                       └───┘┌─┴─┐ ░  ║ └╥┘┌─┐\n",
      "   q_2: ────────────────────┤ X ├─░──╫──╫─┤M├\n",
      "                            └───┘ ░  ║  ║ └╥┘\n",
      "meas: 3/═════════════════════════════╩══╩══╩═\n",
      "                                     0  1  2 \n"
     ]
    }
   ],
   "source": [
    "from qiskit import QuantumCircuit\n",
    "from qiskit.compiler import transpile\n",
    "from qiskit.providers.aer import QasmSimulator\n",
    "\n",
    "def transpile_circuit(circuit, basis_gates):\n",
    "    # Define the target basis set\n",
    "    transpile_config = {\n",
    "        'basis_gates': basis_gates\n",
    "    }\n",
    "\n",
    "    # Transpile the circuit\n",
    "    transpiled_circuit = transpile(circuit, **transpile_config)\n",
    "\n",
    "    return transpiled_circuit\n",
    "\n",
    "# Define your circuit\n",
    "qubits = 3\n",
    "circuit = QuantumCircuit(qubits)\n",
    "circuit.h(0)\n",
    "circuit.cx(0, 1)\n",
    "circuit.cx(1, 2)\n",
    "circuit.measure_all()\n",
    "\n",
    "# Define the target basis set\n",
    "target_set = ['u3', 'cx']\n",
    "\n",
    "# Transpile the circuit\n",
    "transpiled_circuit = transpile_circuit(circuit, target_set)\n",
    "\n",
    "# Print the transpiled circuit\n",
    "print(transpiled_circuit)\n"
   ]
  },
  {
   "cell_type": "code",
   "execution_count": 2,
   "id": "1e19276f-20d8-4a97-8536-49b885baa40b",
   "metadata": {},
   "outputs": [],
   "source": [
    "import networkx as nx\n",
    "from qiskit import QuantumCircuit\n",
    "from qiskit.compiler import transpile\n",
    "\n",
    "def transpile_circuit(circuit, basis_gates):\n",
    "    # Define the target basis set\n",
    "    transpile_config = {\n",
    "        'basis_gates': basis_gates\n",
    "    }\n",
    "\n",
    "    # Transpile the circuit\n",
    "    transpiled_circuit = transpile(circuit, **transpile_config)\n",
    "\n",
    "    return transpiled_circuit\n",
    "\n",
    "def circuit_to_graph(circuit, target_set):\n",
    "    # Transpile the circuit into the target set\n",
    "    transpiled_circuit = transpile_circuit(circuit, target_set)\n",
    "\n",
    "    # Initialize an empty graph\n",
    "    graph = nx.Graph()\n",
    "\n",
    "    # Add a node for each qubit\n",
    "    for qubit in transpiled_circuit.qubits:\n",
    "        graph.add_node(str(qubit))\n",
    "\n",
    "    # Add an edge for each two-qubit gate\n",
    "    for gate in transpiled_circuit:\n",
    "        if len(gate.qubits) == 2:\n",
    "            q1, q2 = gate.qubits\n",
    "            graph.add_edge(str(q1), str(q2))\n",
    "\n",
    "    return graph\n"
   ]
  },
  {
   "cell_type": "code",
   "execution_count": 3,
   "id": "81987783-dce6-44ff-9748-3eecb98ca4f8",
   "metadata": {},
   "outputs": [
    {
     "data": {
      "image/png": "[encoded data removed]",
      "text/plain": [
       "<Figure size 640x480 with 1 Axes>"
      ]
     },
     "metadata": {},
     "output_type": "display_data"
    }
   ],
   "source": [
    "# Define your circuit\n",
    "qubits = 3\n",
    "circuit = QuantumCircuit(qubits)\n",
    "circuit.h(0)\n",
    "circuit.cx(0, 1)\n",
    "circuit.cx(1, 2)\n",
    "circuit.measure_all()\n",
    "\n",
    "# Define the target gate set\n",
    "target_set = ['u3', 'cx']\n",
    "\n",
    "# Convert the circuit to a graph\n",
    "graph = circuit_to_graph(circuit, target_set)\n",
    "\n",
    "# Print the graph\n",
    "nx.draw(graph)\n"
   ]
  },
  {
   "cell_type": "code",
   "execution_count": 4,
   "id": "716754e7-da50-4150-b73f-d0abb71e02c2",
   "metadata": {},
   "outputs": [],
   "source": [
    "import networkx as nx\n",
    "import numpy as np\n",
    "from qiskit import QuantumCircuit, QuantumRegister\n",
    "from qiskit.extensions import UnitaryGate\n",
    "from qiskit.quantum_info.random import random_unitary\n",
    "\n",
    "def graph_state_circuit(num_qubits):\n",
    "    \"\"\"Returns a graph state circuit on num_qubits qubits\"\"\"\n",
    "    # Generate a random graph with num_qubits nodes\n",
    "    graph = nx.fast_gnp_random_graph(num_qubits, 0.5)\n",
    "\n",
    "    # Initialize the circuit with the given qubits\n",
    "    qubits = QuantumRegister(num_qubits)\n",
    "    circuit = QuantumCircuit(qubits)\n",
    "\n",
    "    # Apply Hadamard gates to all qubits\n",
    "    circuit.h(qubits)\n",
    "\n",
    "    # Apply random controlled unitary gates to each edge\n",
    "    for edge in graph.edges():\n",
    "        control_qubit, target_qubit = qubits[edge[0]], qubits[edge[1]]\n",
    "\n",
    "        # Generate a random unitary matrix\n",
    "        random_unitary_matrix = random_unitary(2).data\n",
    "\n",
    "        # Apply the controlled random unitary gate to the circuit\n",
    "        controlled_unitary_gate = UnitaryGate(random_unitary_matrix).control()\n",
    "        circuit.append(controlled_unitary_gate, [control_qubit, target_qubit])\n",
    "\n",
    "    # Define number of qubits in circuit\n",
    "    # circuit.num_qubits = len(circuit.qubits)\n",
    "\n",
    "    return circuit"
   ]
  },
  {
   "cell_type": "code",
   "execution_count": 5,
   "id": "1bf2a7fe-c17a-423e-8c0d-a4833c7025b4",
   "metadata": {},
   "outputs": [
    {
     "data": {
      "text/html": [
       "<pre style=\"word-wrap: normal;white-space: pre;background: #fff0;line-height: 1.1;font-family: &quot;Courier New&quot;,Courier,monospace\">      ┌───┐                                 \n",
       "q8_0: ┤ H ├─────■──────────■────────────────\n",
       "      ├───┤┌────┴────┐     │                \n",
       "q8_1: ┤ H ├┤ Unitary ├─────┼────────────────\n",
       "      ├───┤└─────────┘┌────┴────┐           \n",
       "q8_2: ┤ H ├───────────┤ Unitary ├─────■─────\n",
       "      ├───┤           └─────────┘┌────┴────┐\n",
       "q8_3: ┤ H ├──────────────────────┤ Unitary ├\n",
       "      └───┘                      └─────────┘</pre>"
      ],
      "text/plain": [
       "      ┌───┐                                 \n",
       "q8_0: ┤ H ├─────■──────────■────────────────\n",
       "      ├───┤┌────┴────┐     │                \n",
       "q8_1: ┤ H ├┤ Unitary ├─────┼────────────────\n",
       "      ├───┤└─────────┘┌────┴────┐           \n",
       "q8_2: ┤ H ├───────────┤ Unitary ├─────■─────\n",
       "      ├───┤           └─────────┘┌────┴────┐\n",
       "q8_3: ┤ H ├──────────────────────┤ Unitary ├\n",
       "      └───┘                      └─────────┘"
      ]
     },
     "execution_count": 5,
     "metadata": {},
     "output_type": "execute_result"
    }
   ],
   "source": [
    "num_qubits = 4\n",
    "circuit2 = graph_state_circuit(num_qubits)\n",
    "circuit2.draw()"
   ]
  },
  {
   "cell_type": "code",
   "execution_count": 6,
   "id": "03183de4-ce85-4014-a01e-9c1dcc5764ee",
   "metadata": {},
   "outputs": [
    {
     "data": {
      "text/html": [
       "<pre style=\"word-wrap: normal;white-space: pre;background: #fff0;line-height: 1.1;font-family: &quot;Courier New&quot;,Courier,monospace\">      ┌───────────────────┐┌───┐┌───────────────────────────┐┌───┐»\n",
       "q8_0: ┤ U3(π/2,1.6961,-π) ├┤ X ├┤ U3(0,0,-1.12988718142083) ├┤ X ├»\n",
       "      └──┬─────────────┬──┘└─┬─┘└───────────────────────────┘└─┬─┘»\n",
       "q8_1: ───┤ U3(π/2,0,π) ├─────■─────────────────────────────────■──»\n",
       "         ├─────────────┤                                          »\n",
       "q8_2: ───┤ U3(π/2,0,π) ├──────────────────────────────────────────»\n",
       "         ├─────────────┤                                          »\n",
       "q8_3: ───┤ U3(π/2,0,π) ├──────────────────────────────────────────»\n",
       "         └─────────────┘                                          »\n",
       "«            ┌────────────────┐     ┌───┐   ┌───────────────────┐         »\n",
       "«q8_0: ──────┤ U3(π/2,0,3π/2) ├─────┤ X ├───┤ U3(π/2,2.0418,-π) ├──────■──»\n",
       "«      ┌─────┴────────────────┴────┐└─┬─┘┌──┴───────────────────┴───┐┌─┴─┐»\n",
       "«q8_1: ┤ U3(0,0,-1.11061355943785) ├──■──┤ U3(1.6982,1.2088,4.8005) ├┤ X ├»\n",
       "«      └───────────────────────────┘     └──────────────────────────┘└───┘»\n",
       "«q8_2: ───────────────────────────────────────────────────────────────────»\n",
       "«                                                                         »\n",
       "«q8_3: ───────────────────────────────────────────────────────────────────»\n",
       "«                                                                         »\n",
       "«            ┌────────────────┐      ┌───┐┌───────────────────┐┌───┐»\n",
       "«q8_0: ──────┤ U3(π/2,0,3π/2) ├──────┤ X ├┤ U3(π/2,2.6216,-π) ├┤ X ├»\n",
       "«      ┌─────┴────────────────┴─────┐└─┬─┘└───────────────────┘└─┬─┘»\n",
       "«q8_1: ┤ U3(1.6982,0.58164,-4.3504) ├──■─────────────────────────┼──»\n",
       "«      └────────────────────────────┘                            │  »\n",
       "«q8_2: ──────────────────────────────────────────────────────────■──»\n",
       "«                                                                   »\n",
       "«q8_3: ─────────────────────────────────────────────────────────────»\n",
       "«                                                                   »\n",
       "«      ┌───────────────────────────┐┌───┐      ┌────────────────┐     ┌───┐»\n",
       "«q8_0: ┤ U3(0,0,0.641843539942735) ├┤ X ├──────┤ U3(π/2,0,3π/2) ├─────┤ X ├»\n",
       "«      └───────────────────────────┘└─┬─┘      └────────────────┘     └─┬─┘»\n",
       "«q8_1: ───────────────────────────────┼─────────────────────────────────┼──»\n",
       "«                                     │  ┌───────────────────────────┐  │  »\n",
       "«q8_2: ───────────────────────────────■──┤ U3(0,0,0.144534941678085) ├──■──»\n",
       "«                                        └───────────────────────────┘     »\n",
       "«q8_3: ────────────────────────────────────────────────────────────────────»\n",
       "«                                                                          »\n",
       "«         ┌───────────────────┐               ┌────────────────┐     ┌───┐»\n",
       "«q8_0: ───┤ U3(π/2,-2.6475,π) ├──────■────────┤ U3(π/2,0,3π/2) ├─────┤ X ├»\n",
       "«         └───────────────────┘      │        └────────────────┘     └─┬─┘»\n",
       "«q8_1: ──────────────────────────────┼─────────────────────────────────┼──»\n",
       "«      ┌──────────────────────────┐┌─┴─┐┌───────────────────────────┐  │  »\n",
       "«q8_2: ┤ U3(1.6576,1.0179,4.7608) ├┤ X ├┤ U3(1.6576,-2.4056,2.1237) ├──■──»\n",
       "«      └──────────────────────────┘└───┘└───────────────────────────┘     »\n",
       "«q8_3: ───────────────────────────────────────────────────────────────────»\n",
       "«                                                                         »\n",
       "«          ┌───────────────────┐                                            »\n",
       "«q8_0: ────┤ U3(π/2,1.3671,-π) ├────────────────────────────────────────────»\n",
       "«          └───────────────────┘                                            »\n",
       "«q8_1: ─────────────────────────────────────────────────────────────────────»\n",
       "«      ┌───────────────────────────┐┌───┐┌────────────────────────────┐┌───┐»\n",
       "«q8_2: ┤ U3(0,0,-1.06786788837551) ├┤ X ├┤ U3(0,0,-0.420116196782899) ├┤ X ├»\n",
       "«      └───────────────────────────┘└─┬─┘└────────────────────────────┘└─┬─┘»\n",
       "«q8_3: ───────────────────────────────■──────────────────────────────────■──»\n",
       "«                                                                           »\n",
       "«                                                                             »\n",
       "«q8_0: ───────────────────────────────────────────────────────────────────────»\n",
       "«                                                                             »\n",
       "«q8_1: ───────────────────────────────────────────────────────────────────────»\n",
       "«           ┌────────────────┐    ┌───┐       ┌──────────────────┐            »\n",
       "«q8_2: ─────┤ U3(π/2,0,3π/2) ├────┤ X ├───────┤ U3(π/2,3.111,-π) ├─────────■──»\n",
       "«      ┌────┴────────────────┴───┐└─┬─┘┌──────┴──────────────────┴──────┐┌─┴─┐»\n",
       "«q8_3: ┤ U3(0,0,-1.095471968921) ├──■──┤ U3(0.84111,-0.0026569,-1.5698) ├┤ X ├»\n",
       "«      └─────────────────────────┘     └────────────────────────────────┘└───┘»\n",
       "«                                                                \n",
       "«q8_0: ──────────────────────────────────────────────────────────\n",
       "«                                                                \n",
       "«q8_1: ──────────────────────────────────────────────────────────\n",
       "«             ┌────────────────┐       ┌───┐┌───────────────────┐\n",
       "«q8_2: ───────┤ U3(π/2,0,3π/2) ├───────┤ X ├┤ U3(π/2,-1.5649,π) ├\n",
       "«      ┌──────┴────────────────┴──────┐└─┬─┘└───────────────────┘\n",
       "«q8_3: ┤ U3(0.84111,-0.056223,3.1442) ├──■───────────────────────\n",
       "«      └──────────────────────────────┘                          </pre>"
      ],
      "text/plain": [
       "      ┌───────────────────┐┌───┐┌───────────────────────────┐┌───┐»\n",
       "q8_0: ┤ U3(π/2,1.6961,-π) ├┤ X ├┤ U3(0,0,-1.12988718142083) ├┤ X ├»\n",
       "      └──┬─────────────┬──┘└─┬─┘└───────────────────────────┘└─┬─┘»\n",
       "q8_1: ───┤ U3(π/2,0,π) ├─────■─────────────────────────────────■──»\n",
       "         ├─────────────┤                                          »\n",
       "q8_2: ───┤ U3(π/2,0,π) ├──────────────────────────────────────────»\n",
       "         ├─────────────┤                                          »\n",
       "q8_3: ───┤ U3(π/2,0,π) ├──────────────────────────────────────────»\n",
       "         └─────────────┘                                          »\n",
       "«            ┌────────────────┐     ┌───┐   ┌───────────────────┐         »\n",
       "«q8_0: ──────┤ U3(π/2,0,3π/2) ├─────┤ X ├───┤ U3(π/2,2.0418,-π) ├──────■──»\n",
       "«      ┌─────┴────────────────┴────┐└─┬─┘┌──┴───────────────────┴───┐┌─┴─┐»\n",
       "«q8_1: ┤ U3(0,0,-1.11061355943785) ├──■──┤ U3(1.6982,1.2088,4.8005) ├┤ X ├»\n",
       "«      └───────────────────────────┘     └──────────────────────────┘└───┘»\n",
       "«q8_2: ───────────────────────────────────────────────────────────────────»\n",
       "«                                                                         »\n",
       "«q8_3: ───────────────────────────────────────────────────────────────────»\n",
       "«                                                                         »\n",
       "«            ┌────────────────┐      ┌───┐┌───────────────────┐┌───┐»\n",
       "«q8_0: ──────┤ U3(π/2,0,3π/2) ├──────┤ X ├┤ U3(π/2,2.6216,-π) ├┤ X ├»\n",
       "«      ┌─────┴────────────────┴─────┐└─┬─┘└───────────────────┘└─┬─┘»\n",
       "«q8_1: ┤ U3(1.6982,0.58164,-4.3504) ├──■─────────────────────────┼──»\n",
       "«      └────────────────────────────┘                            │  »\n",
       "«q8_2: ──────────────────────────────────────────────────────────■──»\n",
       "«                                                                   »\n",
       "«q8_3: ─────────────────────────────────────────────────────────────»\n",
       "«                                                                   »\n",
       "«      ┌───────────────────────────┐┌───┐      ┌────────────────┐     ┌───┐»\n",
       "«q8_0: ┤ U3(0,0,0.641843539942735) ├┤ X ├──────┤ U3(π/2,0,3π/2) ├─────┤ X ├»\n",
       "«      └───────────────────────────┘└─┬─┘      └────────────────┘     └─┬─┘»\n",
       "«q8_1: ───────────────────────────────┼─────────────────────────────────┼──»\n",
       "«                                     │  ┌───────────────────────────┐  │  »\n",
       "«q8_2: ───────────────────────────────■──┤ U3(0,0,0.144534941678085) ├──■──»\n",
       "«                                        └───────────────────────────┘     »\n",
       "«q8_3: ────────────────────────────────────────────────────────────────────»\n",
       "«                                                                          »\n",
       "«         ┌───────────────────┐               ┌────────────────┐     ┌───┐»\n",
       "«q8_0: ───┤ U3(π/2,-2.6475,π) ├──────■────────┤ U3(π/2,0,3π/2) ├─────┤ X ├»\n",
       "«         └───────────────────┘      │        └────────────────┘     └─┬─┘»\n",
       "«q8_1: ──────────────────────────────┼─────────────────────────────────┼──»\n",
       "«      ┌──────────────────────────┐┌─┴─┐┌───────────────────────────┐  │  »\n",
       "«q8_2: ┤ U3(1.6576,1.0179,4.7608) ├┤ X ├┤ U3(1.6576,-2.4056,2.1237) ├──■──»\n",
       "«      └──────────────────────────┘└───┘└───────────────────────────┘     »\n",
       "«q8_3: ───────────────────────────────────────────────────────────────────»\n",
       "«                                                                         »\n",
       "«          ┌───────────────────┐                                            »\n",
       "«q8_0: ────┤ U3(π/2,1.3671,-π) ├────────────────────────────────────────────»\n",
       "«          └───────────────────┘                                            »\n",
       "«q8_1: ─────────────────────────────────────────────────────────────────────»\n",
       "«      ┌───────────────────────────┐┌───┐┌────────────────────────────┐┌───┐»\n",
       "«q8_2: ┤ U3(0,0,-1.06786788837551) ├┤ X ├┤ U3(0,0,-0.420116196782899) ├┤ X ├»\n",
       "«      └───────────────────────────┘└─┬─┘└────────────────────────────┘└─┬─┘»\n",
       "«q8_3: ───────────────────────────────■──────────────────────────────────■──»\n",
       "«                                                                           »\n",
       "«                                                                             »\n",
       "«q8_0: ───────────────────────────────────────────────────────────────────────»\n",
       "«                                                                             »\n",
       "«q8_1: ───────────────────────────────────────────────────────────────────────»\n",
       "«           ┌────────────────┐    ┌───┐       ┌──────────────────┐            »\n",
       "«q8_2: ─────┤ U3(π/2,0,3π/2) ├────┤ X ├───────┤ U3(π/2,3.111,-π) ├─────────■──»\n",
       "«      ┌────┴────────────────┴───┐└─┬─┘┌──────┴──────────────────┴──────┐┌─┴─┐»\n",
       "«q8_3: ┤ U3(0,0,-1.095471968921) ├──■──┤ U3(0.84111,-0.0026569,-1.5698) ├┤ X ├»\n",
       "«      └─────────────────────────┘     └────────────────────────────────┘└───┘»\n",
       "«                                                                \n",
       "«q8_0: ──────────────────────────────────────────────────────────\n",
       "«                                                                \n",
       "«q8_1: ──────────────────────────────────────────────────────────\n",
       "«             ┌────────────────┐       ┌───┐┌───────────────────┐\n",
       "«q8_2: ───────┤ U3(π/2,0,3π/2) ├───────┤ X ├┤ U3(π/2,-1.5649,π) ├\n",
       "«      ┌──────┴────────────────┴──────┐└─┬─┘└───────────────────┘\n",
       "«q8_3: ┤ U3(0.84111,-0.056223,3.1442) ├──■───────────────────────\n",
       "«      └──────────────────────────────┘                          "
      ]
     },
     "execution_count": 6,
     "metadata": {},
     "output_type": "execute_result"
    }
   ],
   "source": [
    "target_set = ['u3', 'cx']\n",
    "circuit_2 = transpile_circuit(circuit2, target_set)\n",
    "circuit_2.draw()"
   ]
  },
  {
   "cell_type": "code",
   "execution_count": 7,
   "id": "0d811bba-f537-4548-9f9a-dfad335818fc",
   "metadata": {},
   "outputs": [
    {
     "data": {
      "image/png": "[encoded data removed]",
      "text/plain": [
       "<Figure size 640x480 with 1 Axes>"
      ]
     },
     "metadata": {},
     "output_type": "display_data"
    }
   ],
   "source": [
    "# Define the target gate set\n",
    "target_set = ['u3', 'cx']\n",
    "\n",
    "# Convert the circuit to a graph\n",
    "graph = circuit_to_graph(circuit2, target_set)\n",
    "\n",
    "# Print the graph\n",
    "nx.draw(graph)"
   ]
  },
  {
   "cell_type": "markdown",
   "id": "068db3fd-ffe7-410c-9988-5111092f7772",
   "metadata": {},
   "source": [
    "Now, to add in edge weights corresponding to two-qubit gate counts for each pair of interacting qubits, we can modify our code as follows. "
   ]
  },
  {
   "cell_type": "code",
   "execution_count": 8,
   "id": "aed743f3-3987-4c36-9aaf-a60c5289629b",
   "metadata": {},
   "outputs": [],
   "source": [
    "import networkx as nx\n",
    "from qiskit.compiler import transpile\n",
    "\n",
    "def circuit_to_graph(circuit, target_set):\n",
    "    # Transpile the circuit into the target set\n",
    "    transpiled_circuit = transpile(circuit, basis_gates=target_set)\n",
    "\n",
    "    # Initialize an empty graph\n",
    "    graph = nx.Graph()\n",
    "\n",
    "    # Add a node for each qubit\n",
    "    for qubit in transpiled_circuit.qubits:\n",
    "        graph.add_node(str(qubit))\n",
    "\n",
    "    # Add an edge for each two-qubit gate, with weight equal to number of times the gate is applied\n",
    "    for gate in transpiled_circuit:\n",
    "        if len(gate.qubits) == 2:\n",
    "            q1, q2 = gate.qubits\n",
    "            edge_weight = graph.get_edge_data(str(q1), str(q2), default={\"weight\": 0})[\"weight\"]\n",
    "            graph.add_edge(str(q1), str(q2), weight=edge_weight + 1)\n",
    "\n",
    "    return graph\n"
   ]
  },
  {
   "cell_type": "code",
   "execution_count": 10,
   "id": "8d59e151-7b7b-4fe2-8912-0dff4b2c833b",
   "metadata": {},
   "outputs": [
    {
     "data": {
      "image/png": "[encoded data removed]",
      "text/plain": [
       "<Figure size 640x480 with 1 Axes>"
      ]
     },
     "metadata": {},
     "output_type": "display_data"
    }
   ],
   "source": [
    "from matplotlib import pyplot as plt\n",
    "\n",
    "# Define the target basis set\n",
    "target_set = ['u3', 'cx']\n",
    "\n",
    "# Get the graph from the circuit\n",
    "graph = circuit_to_graph(circuit2, target_set)\n",
    "\n",
    "# Plot the graph with edge weights labeled\n",
    "pos = nx.circular_layout(graph)\n",
    "edge_labels = {(u, v): d['weight'] for u, v, d in graph.edges(data=True)}\n",
    "nx.draw_networkx_edge_labels(graph, pos, edge_labels=edge_labels)\n",
    "nx.draw(graph, pos, with_labels=True)\n",
    "plt.show()"
   ]
  },
  {
   "cell_type": "markdown",
   "id": "a2797a10-78e5-4332-bc65-699d43688ac0",
   "metadata": {},
   "source": [
    "Note, edge weights may be limited by your maximum gate count used in approximating gates with the specified basis gate set (in our case `['u3', 'cx']`."
   ]
  },
  {
   "cell_type": "code",
   "execution_count": 11,
   "id": "4df7415b-d170-42e8-bf28-3068aa4f136b",
   "metadata": {},
   "outputs": [
    {
     "data": {
      "text/plain": [
       "EdgeView([(\"Qubit(QuantumRegister(4, 'q8'), 0)\", \"Qubit(QuantumRegister(4, 'q8'), 1)\"), (\"Qubit(QuantumRegister(4, 'q8'), 0)\", \"Qubit(QuantumRegister(4, 'q8'), 2)\"), (\"Qubit(QuantumRegister(4, 'q8'), 2)\", \"Qubit(QuantumRegister(4, 'q8'), 3)\")])"
      ]
     },
     "execution_count": 11,
     "metadata": {},
     "output_type": "execute_result"
    }
   ],
   "source": [
    "graph.edges"
   ]
  },
  {
   "cell_type": "code",
   "execution_count": 12,
   "id": "f4465610-d347-498e-9dd7-df6bb16ff058",
   "metadata": {},
   "outputs": [
    {
     "data": {
      "image/png": "[encoded data removed]",
      "text/plain": [
       "<Figure size 640x480 with 1 Axes>"
      ]
     },
     "metadata": {},
     "output_type": "display_data"
    }
   ],
   "source": [
    "from qiskit import QuantumCircuit\n",
    "import matplotlib.pyplot as plt\n",
    "\n",
    "# Define your circuit\n",
    "qubits = 3\n",
    "circuit = QuantumCircuit(qubits)\n",
    "circuit.h(0)\n",
    "circuit.cx(0, 1)\n",
    "circuit.cx(1, 2)\n",
    "circuit.measure_all()\n",
    "\n",
    "# Define the target basis set\n",
    "target_set = ['u3', 'cx']\n",
    "\n",
    "# Get the graph from the circuit\n",
    "graph = circuit_to_graph(circuit, target_set)\n",
    "\n",
    "# Plot the graph with edge weights labeled\n",
    "pos = nx.circular_layout(graph)\n",
    "edge_labels = {(u, v): d['weight'] for u, v, d in graph.edges(data=True)}\n",
    "nx.draw_networkx_edge_labels(graph, pos, edge_labels=edge_labels)\n",
    "nx.draw(graph, pos, with_labels=True)\n",
    "plt.show()\n"
   ]
  },
  {
   "cell_type": "markdown",
   "id": "c2983ab4-361e-41f4-be0f-6f125cb06dc4",
   "metadata": {},
   "source": [
    "## Persistent Homology of Weighted Interaction Graphs"
   ]
  },
  {
   "cell_type": "markdown",
   "id": "28d30173-3e0a-4a70-b301-72fb0f8c8728",
   "metadata": {},
   "source": [
    "We can now apply methods found in the [persistent_homology_graphs.ipynb](https://github.com/giotto-ai/giotto-tda/blob/master/examples/persistent_homology_graphs.ipynb) using persistent homology to study weighted graphs. "
   ]
  },
  {
   "cell_type": "code",
   "execution_count": null,
   "id": "40c0e694-9356-4f41-b965-3b1ca6a3f6df",
   "metadata": {},
   "outputs": [],
   "source": []
  }
 ],
 "metadata": {
  "kernelspec": {
   "display_name": "Python 3.8.5 64-bit ('anaconda3': virtualenv)",
   "language": "python",
   "name": "python385jvsc74a57bd0474c67ce7e36ad5731492349411c4ce02ca5c170a680b2d1efe1eb0325e35fe7"
  },
  "language_info": {
   "codemirror_mode": {
    "name": "ipython",
    "version": 3
   },
   "file_extension": ".py",
   "mimetype": "text/x-python",
   "name": "python",
   "nbconvert_exporter": "python",
   "pygments_lexer": "ipython3",
   "version": "3.9.13"
  }
 },
 "nbformat": 4,
 "nbformat_minor": 5
}
