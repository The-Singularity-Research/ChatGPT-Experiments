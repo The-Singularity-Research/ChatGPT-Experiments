{
 "cells": [
  {
   "cell_type": "markdown",
   "id": "5afa26a1-5505-4863-8f1f-03b4902bfe9d",
   "metadata": {},
   "source": [
    "# Partial Trace, Entanglement Entropy, and Interaction Graphs"
   ]
  },
  {
   "cell_type": "markdown",
   "id": "28e75ce9-b098-4537-9c50-615e7bfbe3aa",
   "metadata": {},
   "source": [
    "## Partial Trace"
   ]
  },
  {
   "cell_type": "code",
   "execution_count": 1,
   "id": "883d9d76-aa28-4a57-bfaa-32d1c611c72a",
   "metadata": {},
   "outputs": [],
   "source": [
    "import numpy as np\n",
    "import networkx as nx\n",
    "\n",
    "import numpy as np\n",
    "\n",
    "def partial_trace(rho_AB, qubits_A, qubits_B):\n",
    "    \"\"\"\n",
    "    Compute the partial trace of a pure state rho_AB with respect to subsystem B,\n",
    "    given the qubits corresponding to subsystem A and subsystem B.\n",
    "    \n",
    "    Args:\n",
    "    rho_AB (ndarray): A pure state of the system, represented as a 2^n x 2^m matrix,\n",
    "                      where n is the number of qubits in subsystem A and m is the number\n",
    "                      of qubits in subsystem B.\n",
    "    qubits_A (list[int]): A list of integers representing the qubits corresponding to subsystem A.\n",
    "    qubits_B (list[int]): A list of integers representing the qubits corresponding to subsystem B.\n",
    "    \n",
    "    Returns:\n",
    "    rho_A (ndarray): The reduced density matrix representing the state of subsystem A alone,\n",
    "                     represented as a 2^n x 2^n matrix.\n",
    "    \"\"\"\n",
    "    # Compute the dimensions of the subsystems\n",
    "    dim_A = 2**len(qubits_A)\n",
    "    dim_B = 2**len(qubits_B)\n",
    "\n",
    "    # Reshape the state into a tensor product of A and B subsystems\n",
    "    rho_AB = np.reshape(rho_AB, (dim_A, dim_B, dim_A, dim_B))\n",
    "\n",
    "    # Compute the partial trace by summing over subsystem B\n",
    "    rho_A = np.trace(rho_AB, axis1=1, axis2=3)\n",
    "\n",
    "    return rho_A\n"
   ]
  },
  {
   "cell_type": "markdown",
   "id": "dde28c50-f67f-4dd4-b6ec-7ea8d034182f",
   "metadata": {},
   "source": [
    "## von Neumann Entanglement Entropy"
   ]
  },
  {
   "cell_type": "markdown",
   "id": "6be7f7b3-44d3-4b5c-ad8c-86ffc4925d66",
   "metadata": {},
   "source": [
    "The definition of von Neumann entanglement entropy is "
   ]
  },
  {
   "cell_type": "code",
   "execution_count": 2,
   "id": "c878a3e4-dd4e-4b15-83bf-46baf8f00174",
   "metadata": {},
   "outputs": [],
   "source": [
    "def entropy(rho, base=2):\n",
    "    \"\"\"\n",
    "    Computes the von Neumann entropy of a density matrix.\n",
    "\n",
    "    Args:\n",
    "        rho: The density matrix.\n",
    "        base: The logarithmic base of the entropy.\n",
    "\n",
    "    Returns:\n",
    "        The von Neumann entropy of the density matrix.\n",
    "    \"\"\"\n",
    "    eigvals = np.linalg.eigvalsh(rho)\n",
    "    eigvals = eigvals[np.nonzero(eigvals)]\n",
    "    return -np.sum(eigvals * np.log(eigvals)) / np.log(base)\n"
   ]
  },
  {
   "cell_type": "code",
   "execution_count": 3,
   "id": "a52f2076-59d3-4d58-be66-30cc0c1912ed",
   "metadata": {},
   "outputs": [
    {
     "data": {
      "text/html": [
       "<pre style=\"overflow: auto; white-space: pre;\">0: ───H───@───────\n",
       "          │\n",
       "1: ───H───X───@───\n",
       "              │\n",
       "2: ───H───────X───</pre>"
      ],
      "text/plain": [
       "0: ───H───@───────\n",
       "          │\n",
       "1: ───H───X───@───\n",
       "              │\n",
       "2: ───H───────X───"
      ]
     },
     "execution_count": 3,
     "metadata": {},
     "output_type": "execute_result"
    }
   ],
   "source": [
    "import cirq\n",
    "\n",
    "# Define a 3-qubit circuit\n",
    "circuit = cirq.Circuit()\n",
    "q0, q1, q2 = cirq.LineQubit.range(3)\n",
    "\n",
    "# Apply Hadamard gates to each qubit\n",
    "circuit.append([cirq.H(q0), cirq.H(q1), cirq.H(q2)])\n",
    "\n",
    "# Apply CNOT gates to create a GHZ state\n",
    "circuit.append([cirq.CNOT(q0, q1), cirq.CNOT(q1, q2)])\n",
    "\n",
    "circuit"
   ]
  },
  {
   "cell_type": "code",
   "execution_count": 4,
   "id": "20c3f723-3af1-404b-bf06-872ea5dfb5f3",
   "metadata": {},
   "outputs": [
    {
     "data": {
      "text/plain": [
       "array([[0.12499998+0.j, 0.12499998+0.j, 0.12499998+0.j, 0.12499998+0.j,\n",
       "        0.12499998+0.j, 0.12499998+0.j, 0.12499998+0.j, 0.12499998+0.j],\n",
       "       [0.12499998+0.j, 0.12499998+0.j, 0.12499998+0.j, 0.12499998+0.j,\n",
       "        0.12499998+0.j, 0.12499998+0.j, 0.12499998+0.j, 0.12499998+0.j],\n",
       "       [0.12499998+0.j, 0.12499998+0.j, 0.12499998+0.j, 0.12499998+0.j,\n",
       "        0.12499998+0.j, 0.12499998+0.j, 0.12499998+0.j, 0.12499998+0.j],\n",
       "       [0.12499998+0.j, 0.12499998+0.j, 0.12499998+0.j, 0.12499998+0.j,\n",
       "        0.12499998+0.j, 0.12499998+0.j, 0.12499998+0.j, 0.12499998+0.j],\n",
       "       [0.12499998+0.j, 0.12499998+0.j, 0.12499998+0.j, 0.12499998+0.j,\n",
       "        0.12499998+0.j, 0.12499998+0.j, 0.12499998+0.j, 0.12499998+0.j],\n",
       "       [0.12499998+0.j, 0.12499998+0.j, 0.12499998+0.j, 0.12499998+0.j,\n",
       "        0.12499998+0.j, 0.12499998+0.j, 0.12499998+0.j, 0.12499998+0.j],\n",
       "       [0.12499998+0.j, 0.12499998+0.j, 0.12499998+0.j, 0.12499998+0.j,\n",
       "        0.12499998+0.j, 0.12499998+0.j, 0.12499998+0.j, 0.12499998+0.j],\n",
       "       [0.12499998+0.j, 0.12499998+0.j, 0.12499998+0.j, 0.12499998+0.j,\n",
       "        0.12499998+0.j, 0.12499998+0.j, 0.12499998+0.j, 0.12499998+0.j]],\n",
       "      dtype=complex64)"
      ]
     },
     "execution_count": 4,
     "metadata": {},
     "output_type": "execute_result"
    }
   ],
   "source": [
    "rho = cirq.final_density_matrix(circuit)\n",
    "rho"
   ]
  },
  {
   "cell_type": "code",
   "execution_count": 5,
   "id": "913f5b1c-2df3-4766-b3db-49ead4588ab8",
   "metadata": {},
   "outputs": [],
   "source": [
    "import numpy as np\n",
    "from qiskit.quantum_info import partial_trace, entropy\n",
    "from qiskit import QuantumCircuit, Aer, execute\n",
    "\n",
    "\n",
    "def compute_entanglement_entropies(rho):\n",
    "    \"\"\"\n",
    "    Computes the von Neumann entanglement entropy for every pair of qubits in the input density matrix.\n",
    "\n",
    "    Args:\n",
    "        rho (numpy.ndarray): a 2^n x 2^n density matrix representing the state of n qubits.\n",
    "\n",
    "    Returns:\n",
    "        numpy.ndarray: an n x n matrix of von Neumann entanglement entropies, where element i,j gives the entropy\n",
    "        of the reduced density matrix of qubits i and j.\n",
    "    \"\"\"\n",
    "    # Determine the number of qubits n from the shape of rho.\n",
    "    n = int(np.log2(rho.shape[0]))\n",
    "\n",
    "    # Create an empty n x n matrix to store the entropies.\n",
    "    entanglement_entropies = np.zeros((n, n))\n",
    "\n",
    "    # Loop over all pairs of qubits (i, j).\n",
    "    for i in range(n):\n",
    "        for j in range(i+1, n):\n",
    "\n",
    "            # Define the indices of the qubits to trace out.\n",
    "            trace_indices = [k for k in range(n) if k != i and k != j]\n",
    "\n",
    "            # Trace out the other qubits to obtain the reduced density matrix.\n",
    "            rho_ij = partial_trace(rho, trace_indices)\n",
    "\n",
    "            # Compute the von Neumann entropy of the reduced density matrix.\n",
    "            entanglement_entropies[i,j] = entropy(rho_ij)\n",
    "\n",
    "    # Copy the upper triangular part of the matrix to the lower triangular part.\n",
    "    entanglement_entropies += entanglement_entropies.T - np.diag(entanglement_entropies.diagonal())\n",
    "\n",
    "    return entanglement_entropies\n"
   ]
  },
  {
   "cell_type": "code",
   "execution_count": 6,
   "id": "e21b72fa-699c-43c4-a65e-b86b1e1ad082",
   "metadata": {},
   "outputs": [
    {
     "data": {
      "text/plain": [
       "array([[0.00000000e+00, 2.57973954e-07, 2.57973954e-07],\n",
       "       [2.57973954e-07, 0.00000000e+00, 2.57973954e-07],\n",
       "       [2.57973954e-07, 2.57973954e-07, 0.00000000e+00]])"
      ]
     },
     "execution_count": 6,
     "metadata": {},
     "output_type": "execute_result"
    }
   ],
   "source": [
    "compute_entanglement_entropies(rho)"
   ]
  },
  {
   "cell_type": "code",
   "execution_count": 7,
   "id": "3a7733ec-9d6b-41e7-a2c0-c25a9b2e15eb",
   "metadata": {},
   "outputs": [
    {
     "data": {
      "text/html": [
       "<pre style=\"overflow: auto; white-space: pre;\">0: ───H───@───────────\n",
       "          │\n",
       "1: ───H───X───@───────\n",
       "              │\n",
       "2: ───H───────X───@───\n",
       "                  │\n",
       "3: ───────────────X───</pre>"
      ],
      "text/plain": [
       "0: ───H───@───────────\n",
       "          │\n",
       "1: ───H───X───@───────\n",
       "              │\n",
       "2: ───H───────X───@───\n",
       "                  │\n",
       "3: ───────────────X───"
      ]
     },
     "execution_count": 7,
     "metadata": {},
     "output_type": "execute_result"
    }
   ],
   "source": [
    "import cirq\n",
    "\n",
    "# Define a 3-qubit circuit\n",
    "circuit2 = cirq.Circuit()\n",
    "q0, q1, q2, q3 = cirq.LineQubit.range(4)\n",
    "\n",
    "# Apply Hadamard gates to each qubit\n",
    "circuit2.append([cirq.H(q0), cirq.H(q1), cirq.H(q2)])\n",
    "\n",
    "# Apply CNOT gates to create a GHZ state\n",
    "circuit2.append([cirq.CNOT(q0, q1), cirq.CNOT(q1, q2), cirq.CNOT(q2, q3)])\n",
    "\n",
    "circuit2"
   ]
  },
  {
   "cell_type": "code",
   "execution_count": 8,
   "id": "e1871452-e09f-47bd-a757-60a95f3292b1",
   "metadata": {},
   "outputs": [
    {
     "data": {
      "text/plain": [
       "array([[0.00000000e+00, 2.57973953e-07, 1.00000008e+00, 1.00000008e+00],\n",
       "       [2.57973953e-07, 0.00000000e+00, 1.00000008e+00, 1.00000008e+00],\n",
       "       [1.00000008e+00, 1.00000008e+00, 0.00000000e+00, 2.57973954e-07],\n",
       "       [1.00000008e+00, 1.00000008e+00, 2.57973954e-07, 0.00000000e+00]])"
      ]
     },
     "execution_count": 8,
     "metadata": {},
     "output_type": "execute_result"
    }
   ],
   "source": [
    "rho2 = cirq.final_density_matrix(circuit2)\n",
    "compute_entanglement_entropies(rho2)"
   ]
  },
  {
   "cell_type": "markdown",
   "id": "382c5380-6af3-4c96-803b-ac7a91b0355b",
   "metadata": {},
   "source": [
    "## Weighted Interaction Graphs"
   ]
  },
  {
   "cell_type": "markdown",
   "id": "c694068d-e595-4fec-b235-2de08094dfcf",
   "metadata": {},
   "source": [
    "Now we can write a Python function to plot the weighted interaction graph corresponding to the pairwise entanglement entropies of qubits as weights. "
   ]
  },
  {
   "cell_type": "code",
   "execution_count": 9,
   "id": "b91de74d-e988-4e38-8875-59f51aa98c90",
   "metadata": {},
   "outputs": [],
   "source": [
    "import networkx as nx\n",
    "import matplotlib.pyplot as plt\n",
    "\n",
    "def plot_weighted_graph(weighted_adj_matrix):\n",
    "    \"\"\"\n",
    "    Creates a labeled weighted graph using NetworkX and plots the graph with labels.\n",
    "\n",
    "    Args:\n",
    "        weighted_adj_matrix: A weighted adjacency matrix.\n",
    "\n",
    "    Returns:\n",
    "        Nothing.\n",
    "    \"\"\"\n",
    "    n_nodes = len(weighted_adj_matrix)\n",
    "    G = nx.Graph()\n",
    "    for i in range(n_nodes):\n",
    "        G.add_node(i)\n",
    "    for i in range(n_nodes):\n",
    "        for j in range(i+1, n_nodes):\n",
    "            weight = weighted_adj_matrix[i, j]\n",
    "            G.add_edge(i, j, weight=weight)\n",
    "    pos = nx.spring_layout(G)\n",
    "    nx.draw(G, pos, with_labels=True)\n",
    "    labels = nx.get_edge_attributes(G,'weight')\n",
    "    nx.draw_networkx_edge_labels(G,pos,edge_labels=labels)\n",
    "    plt.show()\n"
   ]
  },
  {
   "cell_type": "code",
   "execution_count": 10,
   "id": "3beb8362-58dc-4f04-8961-06931968081e",
   "metadata": {},
   "outputs": [
    {
     "data": {
      "image/png": "[encoded data removed]",
      "text/plain": [
       "<Figure size 640x480 with 1 Axes>"
      ]
     },
     "metadata": {},
     "output_type": "display_data"
    }
   ],
   "source": [
    "entropies = compute_entanglement_entropies(rho2)\n",
    "plot_weighted_graph(entropies)"
   ]
  },
  {
   "cell_type": "markdown",
   "id": "ae910b4c-cae2-48bd-bf98-80ef4343df0c",
   "metadata": {},
   "source": [
    "## Persistent Homology of Weighted Interaction Graphs"
   ]
  },
  {
   "cell_type": "markdown",
   "id": "6baa3645-262a-43a7-b913-cc84316c7300",
   "metadata": {},
   "source": [
    "We will use the [Topological feature extraction from graphs](https://github.com/giotto-ai/giotto-tda/blob/master/examples/persistent_homology_graphs.ipynb) notebook to understand the persistent homology of weighted interaction graphs. We also are working on code to use quantum mutual information instead of entanglement entropy as weights. "
   ]
  },
  {
   "cell_type": "code",
   "execution_count": null,
   "id": "645b4896-bdcd-4c79-9ba0-d1c2929c0456",
   "metadata": {},
   "outputs": [],
   "source": []
  }
 ],
 "metadata": {
  "kernelspec": {
   "display_name": "Python 3.8.5 64-bit ('anaconda3': virtualenv)",
   "language": "python",
   "name": "python385jvsc74a57bd0474c67ce7e36ad5731492349411c4ce02ca5c170a680b2d1efe1eb0325e35fe7"
  },
  "language_info": {
   "codemirror_mode": {
    "name": "ipython",
    "version": 3
   },
   "file_extension": ".py",
   "mimetype": "text/x-python",
   "name": "python",
   "nbconvert_exporter": "python",
   "pygments_lexer": "ipython3",
   "version": "3.9.13"
  }
 },
 "nbformat": 4,
 "nbformat_minor": 5
}
