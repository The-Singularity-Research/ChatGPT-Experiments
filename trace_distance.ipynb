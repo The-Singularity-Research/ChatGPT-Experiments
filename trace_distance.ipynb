{
 "cells": [
  {
   "cell_type": "markdown",
   "id": "85ae8ef1-f244-432c-a1de-6350ab23f393",
   "metadata": {},
   "source": [
    "# Distance Metrics and Density Matrices"
   ]
  },
  {
   "cell_type": "markdown",
   "id": "8ac35e7c-0677-495d-bb98-a5651252cb7c",
   "metadata": {},
   "source": [
    "In this notebook we show how to construct two different kinds of graphs states. The gates we use for entangling qubits in each case are \n",
    "\n",
    "1. controlled-Z gates\n",
    "2. controlled random unitary gates\n",
    "\n",
    "If the two graph states are constructed from the same graph, then the second can be seen as applying local perturbations to the (controlled) entangling gates to obtain random controlled unitaries. "
   ]
  },
  {
   "cell_type": "code",
   "execution_count": 1,
   "id": "0c8b526c-62df-411c-a1b5-9ed4acad8666",
   "metadata": {},
   "outputs": [],
   "source": [
    "import networkx as nx\n",
    "import cirq\n",
    "\n",
    "def generate_graph_state(num_qubits):\n",
    "    # Generate a random graph using NetworkX\n",
    "    graph = nx.erdos_renyi_graph(num_qubits, 0.5)\n",
    "\n",
    "    # Initialize a circuit with the specified number of qubits\n",
    "    circuit = cirq.Circuit()\n",
    "    qubits = [cirq.GridQubit(i, 0) for i in range(num_qubits)]\n",
    "\n",
    "    # Apply H gates to all qubits\n",
    "    circuit.append(cirq.H.on_each(*qubits))\n",
    "\n",
    "    # Apply CZ gates to pairs of qubits based on the edges of the graph\n",
    "    for edge in graph.edges:\n",
    "        qubit1 = qubits[edge[0]]\n",
    "        qubit2 = qubits[edge[1]]\n",
    "        circuit.append(cirq.CZ(qubit1, qubit2))\n",
    "\n",
    "    return circuit\n"
   ]
  },
  {
   "cell_type": "code",
   "execution_count": 2,
   "id": "338d0a85-ea2f-4f86-92fc-75bef5717230",
   "metadata": {},
   "outputs": [],
   "source": [
    "num_qubits = 4\n",
    "gs1 = generate_graph_state(num_qubits)\n",
    "gs2 = generate_graph_state(num_qubits)"
   ]
  },
  {
   "cell_type": "code",
   "execution_count": 3,
   "id": "3151d32b-4aad-4cc9-8c5c-0d002fde420d",
   "metadata": {},
   "outputs": [],
   "source": [
    "import numpy as np\n",
    "import cirq\n",
    "\n",
    "def trace_distance(circuit1, circuit2):\n",
    "    # Compute the density matrices of the two circuits\n",
    "    rho1 = cirq.final_density_matrix(circuit1)\n",
    "    rho2 = cirq.final_density_matrix(circuit2)\n",
    "\n",
    "    # Compute the trace distance between the two density matrices\n",
    "    trace_distance = 0.5 * np.linalg.norm(rho1 - rho2, ord=1)\n",
    "\n",
    "    return trace_distance\n"
   ]
  },
  {
   "cell_type": "code",
   "execution_count": 4,
   "id": "a8c6d816-58d0-4fc8-9cfe-dcbea3d04a4c",
   "metadata": {},
   "outputs": [
    {
     "data": {
      "text/html": [
       "<pre style=\"overflow: auto; white-space: pre;\">               ┌──┐\n",
       "(0, 0): ───H────@─────────────\n",
       "                │\n",
       "(1, 0): ───H────┼@────@───────\n",
       "                ││    │\n",
       "(2, 0): ───H────┼@────┼───@───\n",
       "                │     │   │\n",
       "(3, 0): ───H────@─────@───@───\n",
       "               └──┘</pre>"
      ],
      "text/plain": [
       "               ┌──┐\n",
       "(0, 0): ───H────@─────────────\n",
       "                │\n",
       "(1, 0): ───H────┼@────@───────\n",
       "                ││    │\n",
       "(2, 0): ───H────┼@────┼───@───\n",
       "                │     │   │\n",
       "(3, 0): ───H────@─────@───@───\n",
       "               └──┘"
      ]
     },
     "execution_count": 4,
     "metadata": {},
     "output_type": "execute_result"
    }
   ],
   "source": [
    "gs1"
   ]
  },
  {
   "cell_type": "code",
   "execution_count": 5,
   "id": "366fb0c7-a038-428f-bbb5-0304e6493545",
   "metadata": {},
   "outputs": [
    {
     "data": {
      "text/html": [
       "<pre style=\"overflow: auto; white-space: pre;\">(0, 0): ───H───@───@───────────────\n",
       "               │   │\n",
       "(1, 0): ───H───@───┼───@───@───────\n",
       "                   │   │   │\n",
       "(2, 0): ───H───────@───@───┼───@───\n",
       "                           │   │\n",
       "(3, 0): ───H───────────────@───@───</pre>"
      ],
      "text/plain": [
       "(0, 0): ───H───@───@───────────────\n",
       "               │   │\n",
       "(1, 0): ───H───@───┼───@───@───────\n",
       "                   │   │   │\n",
       "(2, 0): ───H───────@───@───┼───@───\n",
       "                           │   │\n",
       "(3, 0): ───H───────────────@───@───"
      ]
     },
     "execution_count": 5,
     "metadata": {},
     "output_type": "execute_result"
    }
   ],
   "source": [
    "gs2"
   ]
  },
  {
   "cell_type": "code",
   "execution_count": 6,
   "id": "2825cd81-866a-40ad-b170-fb0eab39b2d5",
   "metadata": {},
   "outputs": [
    {
     "data": {
      "text/plain": [
       "0.7499999403953552"
      ]
     },
     "execution_count": 6,
     "metadata": {},
     "output_type": "execute_result"
    }
   ],
   "source": [
    "trace_distance(gs1, gs2)"
   ]
  },
  {
   "cell_type": "code",
   "execution_count": 7,
   "id": "18a292b2-aa3c-41bd-b785-4c565bc77de3",
   "metadata": {},
   "outputs": [],
   "source": [
    "import cirq\n",
    "import numpy as np\n",
    "\n",
    "def graph_state_circuit(num_qubits):\n",
    "    \"\"\"Returns a graph state circuit on num_qubits qubits\"\"\"\n",
    "    # Generate a random graph with num_qubits nodes\n",
    "    graph = nx.fast_gnp_random_graph(num_qubits, 0.5)\n",
    "\n",
    "    # Initialize the circuit with the given qubits\n",
    "    qubits = [cirq.LineQubit(i) for i in range(num_qubits)]\n",
    "    circuit = cirq.Circuit()\n",
    "\n",
    "    # Apply Hadamard gates to all qubits\n",
    "    circuit.append(cirq.H.on_each(qubits))\n",
    "\n",
    "    # Apply random controlled unitary gates to each edge\n",
    "    for edge in graph.edges():\n",
    "        control_qubit, target_qubit = qubits[edge[0]], qubits[edge[1]]\n",
    "\n",
    "        # Generate a random unitary matrix\n",
    "        random_unitary = cirq.testing.random_unitary(2)\n",
    "\n",
    "        # Apply the controlled random unitary gate to the circuit\n",
    "        circuit.append(cirq.ControlledGate(cirq.MatrixGate(random_unitary)).on(control_qubit, target_qubit))\n",
    "\n",
    "        \n",
    "    # Define number of qubits in circuit\n",
    "    circuit.num_qubits = len(circuit.all_qubits())\n",
    "\n",
    "    \n",
    "    return circuit"
   ]
  },
  {
   "cell_type": "code",
   "execution_count": 8,
   "id": "ee11b9da-b8ef-41fe-8b7e-e3e32c6b2f05",
   "metadata": {},
   "outputs": [
    {
     "data": {
      "text/html": [
       "<pre style=\"overflow: auto; white-space: pre;\">0: ───H───@───────────────────────────────@───────────────────────────────@─────────────────────────────────────────────────────────────\n",
       "          │                               │                               │\n",
       "          ┌                           ┐   │                               │\n",
       "1: ───H───│-0.687-0.375j  0.176-0.597j│───┼───────────────────────────────┼───────────────────────────────@─────────────────────────────\n",
       "          │-0.608-0.132j -0.001+0.783j│   │                               │                               │\n",
       "          └                           ┘   │                               │                               │\n",
       "                                          │                               │                               │\n",
       "                                          ┌                           ┐   │                               │\n",
       "2: ───H───────────────────────────────────│-0.53 -0.7j   -0.451+0.161j│───┼───────────────────────────────┼─────────────────────────────\n",
       "                                          │-0.462-0.123j  0.471-0.741j│   │                               │\n",
       "                                          └                           ┘   │                               │\n",
       "                                                                          │                               │\n",
       "                                                                          ┌                           ┐   ┌                         ┐\n",
       "3: ───H───────────────────────────────────────────────────────────────────│ 0.092+0.159j  0.969-0.166j│───│0.337-0.811j 0.313+0.36j │───\n",
       "                                                                          │-0.603+0.776j -0.097-0.156j│   │0.466+0.103j 0.552-0.684j│\n",
       "                                                                          └                           ┘   └                         ┘</pre>"
      ],
      "text/plain": [
       "0: ───H───@───────────────────────────────@───────────────────────────────@─────────────────────────────────────────────────────────────\n",
       "          │                               │                               │\n",
       "          ┌                           ┐   │                               │\n",
       "1: ───H───│-0.687-0.375j  0.176-0.597j│───┼───────────────────────────────┼───────────────────────────────@─────────────────────────────\n",
       "          │-0.608-0.132j -0.001+0.783j│   │                               │                               │\n",
       "          └                           ┘   │                               │                               │\n",
       "                                          │                               │                               │\n",
       "                                          ┌                           ┐   │                               │\n",
       "2: ───H───────────────────────────────────│-0.53 -0.7j   -0.451+0.161j│───┼───────────────────────────────┼─────────────────────────────\n",
       "                                          │-0.462-0.123j  0.471-0.741j│   │                               │\n",
       "                                          └                           ┘   │                               │\n",
       "                                                                          │                               │\n",
       "                                                                          ┌                           ┐   ┌                         ┐\n",
       "3: ───H───────────────────────────────────────────────────────────────────│ 0.092+0.159j  0.969-0.166j│───│0.337-0.811j 0.313+0.36j │───\n",
       "                                                                          │-0.603+0.776j -0.097-0.156j│   │0.466+0.103j 0.552-0.684j│\n",
       "                                                                          └                           ┘   └                         ┘"
      ]
     },
     "execution_count": 8,
     "metadata": {},
     "output_type": "execute_result"
    }
   ],
   "source": [
    "circuit = graph_state_circuit(4)\n",
    "circuit"
   ]
  },
  {
   "cell_type": "code",
   "execution_count": 9,
   "id": "62ccc7fe-93bd-4f5c-b6be-ee21101986ab",
   "metadata": {},
   "outputs": [
    {
     "data": {
      "text/plain": [
       "0.7174839377403259"
      ]
     },
     "execution_count": 9,
     "metadata": {},
     "output_type": "execute_result"
    }
   ],
   "source": [
    "trace_distance(gs1, circuit)"
   ]
  },
  {
   "cell_type": "markdown",
   "id": "e02a08d9-5c2d-4151-bd2b-2a85d355f062",
   "metadata": {},
   "source": [
    "## Generate Two Graph States with the Same Graph"
   ]
  },
  {
   "cell_type": "code",
   "execution_count": 10,
   "id": "ff331df9-978e-412f-a904-9a58967a0143",
   "metadata": {},
   "outputs": [],
   "source": [
    "num_qubits = 5\n",
    "graph1 = nx.erdos_renyi_graph(num_qubits, 0.5)"
   ]
  },
  {
   "cell_type": "code",
   "execution_count": 11,
   "id": "8b2327b9-5b7d-4a15-a860-ef2715abbcd1",
   "metadata": {},
   "outputs": [],
   "source": [
    "def generate_graph_state(graph):\n",
    "    # Generate a random graph using NetworkX\n",
    "    graph = graph\n",
    "    num_qubits = len(graph.nodes)\n",
    "    # Initialize a circuit with the specified number of qubits\n",
    "    circuit = cirq.Circuit()\n",
    "    qubits = [cirq.GridQubit(i, 0) for i in range(num_qubits)]\n",
    "\n",
    "    # Apply H gates to all qubits\n",
    "    circuit.append(cirq.H.on_each(*qubits))\n",
    "\n",
    "    # Apply CZ gates to pairs of qubits based on the edges of the graph\n",
    "    for edge in graph.edges:\n",
    "        qubit1 = qubits[edge[0]]\n",
    "        qubit2 = qubits[edge[1]]\n",
    "        circuit.append(cirq.CZ(qubit1, qubit2))\n",
    "\n",
    "    return circuit"
   ]
  },
  {
   "cell_type": "code",
   "execution_count": 12,
   "id": "85de2713-db91-4be7-b681-aa10b165392a",
   "metadata": {},
   "outputs": [
    {
     "data": {
      "text/html": [
       "<pre style=\"overflow: auto; white-space: pre;\">                       ┌──┐\n",
       "(0, 0): ───H───@───@────@─────────────\n",
       "               │   │    │\n",
       "(1, 0): ───H───┼───┼────┼─────────────\n",
       "               │   │    │\n",
       "(2, 0): ───H───@───┼────┼@────@───────\n",
       "                   │    ││    │\n",
       "(3, 0): ───H───────@────┼@────┼───@───\n",
       "                        │     │   │\n",
       "(4, 0): ───H────────────@─────@───@───\n",
       "                       └──┘</pre>"
      ],
      "text/plain": [
       "                       ┌──┐\n",
       "(0, 0): ───H───@───@────@─────────────\n",
       "               │   │    │\n",
       "(1, 0): ───H───┼───┼────┼─────────────\n",
       "               │   │    │\n",
       "(2, 0): ───H───@───┼────┼@────@───────\n",
       "                   │    ││    │\n",
       "(3, 0): ───H───────@────┼@────┼───@───\n",
       "                        │     │   │\n",
       "(4, 0): ───H────────────@─────@───@───\n",
       "                       └──┘"
      ]
     },
     "execution_count": 12,
     "metadata": {},
     "output_type": "execute_result"
    }
   ],
   "source": [
    "GS1 = generate_graph_state(graph1)\n",
    "GS1"
   ]
  },
  {
   "cell_type": "markdown",
   "id": "ee2f028b-15d1-4e8f-a4d4-7446fe28bd46",
   "metadata": {},
   "source": [
    "The following generates random controlled unitaries to entangle qubits. Each time the functions is called it generates new random controlled unitaries. "
   ]
  },
  {
   "cell_type": "code",
   "execution_count": 13,
   "id": "64697b83-2b12-4190-a821-f71740e37ab9",
   "metadata": {},
   "outputs": [],
   "source": [
    "import cirq\n",
    "import numpy as np\n",
    "\n",
    "def graph_state_circuit(graph):\n",
    "    \"\"\"Returns a graph state circuit on num_qubits qubits\"\"\"\n",
    "    # Generate a random graph with num_qubits nodes\n",
    "    graph = graph\n",
    "    num_qubits = len(graph.nodes)\n",
    "\n",
    "    # Initialize the circuit with the given qubits\n",
    "    qubits = [cirq.LineQubit(i) for i in range(num_qubits)]\n",
    "    circuit = cirq.Circuit()\n",
    "\n",
    "    # Apply Hadamard gates to all qubits\n",
    "    circuit.append(cirq.H.on_each(qubits))\n",
    "\n",
    "    # Apply random controlled unitary gates to each edge\n",
    "    for edge in graph.edges():\n",
    "        control_qubit, target_qubit = qubits[edge[0]], qubits[edge[1]]\n",
    "\n",
    "        # Generate a random unitary matrix\n",
    "        random_unitary = cirq.testing.random_unitary(2)\n",
    "\n",
    "        # Apply the controlled random unitary gate to the circuit\n",
    "        circuit.append(cirq.ControlledGate(cirq.MatrixGate(random_unitary)).on(control_qubit, target_qubit))\n",
    "\n",
    "        \n",
    "    # Define number of qubits in circuit\n",
    "    circuit.num_qubits = len(circuit.all_qubits())\n",
    "\n",
    "    \n",
    "    return circuit"
   ]
  },
  {
   "cell_type": "code",
   "execution_count": 14,
   "id": "53e7ad64-67ce-4088-93d5-8cb3d893cf1d",
   "metadata": {},
   "outputs": [
    {
     "data": {
      "text/html": [
       "<pre style=\"overflow: auto; white-space: pre;\">                                                                          ┌──────────────────────────────────────────────────────────┐\n",
       "0: ───H───@───────────────────────────────@────────────────────────────────@─────────────────────────────────────────────────────────────────────────────────────────────────────────────────────────────\n",
       "          │                               │                                │\n",
       "1: ───H───┼───────────────────────────────┼────────────────────────────────┼─────────────────────────────────────────────────────────────────────────────────────────────────────────────────────────────\n",
       "          │                               │                                │\n",
       "          ┌                           ┐   │                                │\n",
       "2: ───H───│ 0.059+0.493j  0.696+0.518j│───┼────────────────────────────────┼────────────────────────────@────────────────────────────────@───────────────────────────────────────────────────────────────\n",
       "          │ 0.631+0.596j -0.496+0.027j│   │                                │                            │                                │\n",
       "          └                           ┘   │                                │                            │                                │\n",
       "                                          │                                │                            │                                │\n",
       "                                          ┌                           ┐    │                            ┌                           ┐    │\n",
       "3: ───H───────────────────────────────────│-0.371+0.73j   0.088+0.567j│────┼────────────────────────────│ 0.242+0.217j -0.234+0.916j│────┼───────────────────────────────@───────────────────────────────\n",
       "                                          │ 0.449-0.358j -0.221+0.789j│    │                            │-0.865-0.381j  0.022+0.325j│    │                               │\n",
       "                                          └                           ┘    │                            └                           ┘    │                               │\n",
       "                                                                           │                                                             │                               │\n",
       "                                                                           ┌                           ┐                                 ┌                           ┐   ┌                           ┐\n",
       "4: ───H────────────────────────────────────────────────────────────────────│-0.834-0.135j -0.381+0.376j│─────────────────────────────────│-0.597+0.51j   0.583-0.206j│───│ 0.661+0.387j -0.302-0.567j│───\n",
       "                                                                           │-0.442+0.302j  0.028-0.844j│                                 │-0.523-0.33j  -0.47 -0.63j │   │ 0.213-0.607j  0.595-0.483j│\n",
       "                                                                           └                           ┘                                 └                           ┘   └                           ┘\n",
       "                                                                          └──────────────────────────────────────────────────────────┘</pre>"
      ],
      "text/plain": [
       "                                                                          ┌──────────────────────────────────────────────────────────┐\n",
       "0: ───H───@───────────────────────────────@────────────────────────────────@─────────────────────────────────────────────────────────────────────────────────────────────────────────────────────────────\n",
       "          │                               │                                │\n",
       "1: ───H───┼───────────────────────────────┼────────────────────────────────┼─────────────────────────────────────────────────────────────────────────────────────────────────────────────────────────────\n",
       "          │                               │                                │\n",
       "          ┌                           ┐   │                                │\n",
       "2: ───H───│ 0.059+0.493j  0.696+0.518j│───┼────────────────────────────────┼────────────────────────────@────────────────────────────────@───────────────────────────────────────────────────────────────\n",
       "          │ 0.631+0.596j -0.496+0.027j│   │                                │                            │                                │\n",
       "          └                           ┘   │                                │                            │                                │\n",
       "                                          │                                │                            │                                │\n",
       "                                          ┌                           ┐    │                            ┌                           ┐    │\n",
       "3: ───H───────────────────────────────────│-0.371+0.73j   0.088+0.567j│────┼────────────────────────────│ 0.242+0.217j -0.234+0.916j│────┼───────────────────────────────@───────────────────────────────\n",
       "                                          │ 0.449-0.358j -0.221+0.789j│    │                            │-0.865-0.381j  0.022+0.325j│    │                               │\n",
       "                                          └                           ┘    │                            └                           ┘    │                               │\n",
       "                                                                           │                                                             │                               │\n",
       "                                                                           ┌                           ┐                                 ┌                           ┐   ┌                           ┐\n",
       "4: ───H────────────────────────────────────────────────────────────────────│-0.834-0.135j -0.381+0.376j│─────────────────────────────────│-0.597+0.51j   0.583-0.206j│───│ 0.661+0.387j -0.302-0.567j│───\n",
       "                                                                           │-0.442+0.302j  0.028-0.844j│                                 │-0.523-0.33j  -0.47 -0.63j │   │ 0.213-0.607j  0.595-0.483j│\n",
       "                                                                           └                           ┘                                 └                           ┘   └                           ┘\n",
       "                                                                          └──────────────────────────────────────────────────────────┘"
      ]
     },
     "execution_count": 14,
     "metadata": {},
     "output_type": "execute_result"
    }
   ],
   "source": [
    "GS2 = graph_state_circuit(graph1)\n",
    "GS2"
   ]
  },
  {
   "cell_type": "code",
   "execution_count": 15,
   "id": "8b4d4909-cca6-415b-a3a8-dde1422aba8b",
   "metadata": {},
   "outputs": [
    {
     "data": {
      "text/plain": [
       "1.06827974319458"
      ]
     },
     "execution_count": 15,
     "metadata": {},
     "output_type": "execute_result"
    }
   ],
   "source": [
    "trace_distance(GS1, GS2)"
   ]
  },
  {
   "cell_type": "code",
   "execution_count": null,
   "id": "058cfa96-2917-48a8-9c34-1cc357dd6701",
   "metadata": {},
   "outputs": [],
   "source": []
  }
 ],
 "metadata": {
  "kernelspec": {
   "display_name": "Python 3.8.5 64-bit ('anaconda3': virtualenv)",
   "language": "python",
   "name": "python385jvsc74a57bd0474c67ce7e36ad5731492349411c4ce02ca5c170a680b2d1efe1eb0325e35fe7"
  },
  "language_info": {
   "codemirror_mode": {
    "name": "ipython",
    "version": 3
   },
   "file_extension": ".py",
   "mimetype": "text/x-python",
   "name": "python",
   "nbconvert_exporter": "python",
   "pygments_lexer": "ipython3",
   "version": "3.9.13"
  }
 },
 "nbformat": 4,
 "nbformat_minor": 5
}
