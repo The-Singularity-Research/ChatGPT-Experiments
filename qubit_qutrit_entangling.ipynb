{
 "cells": [
  {
   "cell_type": "markdown",
   "id": "f3ceea49-ffeb-471b-a5cd-c1fa6c944318",
   "metadata": {},
   "source": [
    "## Implement controlled-Hadamard and CSWAP gates. "
   ]
  },
  {
   "cell_type": "code",
   "execution_count": 25,
   "id": "902f1aa3-335e-4f02-9237-0f4966a8f9d3",
   "metadata": {},
   "outputs": [
    {
     "name": "stdout",
     "output_type": "stream",
     "text": [
      "0: ─────────@───\n",
      "            │\n",
      "1 (d=3): ───H───\n"
     ]
    }
   ],
   "source": [
    "import cirq\n",
    "import numpy as np\n",
    "\n",
    "class CH(cirq.Gate):\n",
    "    def __init__(self):\n",
    "        super().__init__()\n",
    "\n",
    "    def _num_qubits_(self):\n",
    "        return 2\n",
    "\n",
    "    def _qid_shape_(self):\n",
    "        return (2, 3)\n",
    "\n",
    "    def _unitary_(self):\n",
    "        return np.array([[1, 0, 0, 0, 0, 0],\n",
    "                         [0, 1, 0, 0, 0, 0],\n",
    "                         [0, 0, 1/np.sqrt(2), 0, 1/np.sqrt(2), 0],\n",
    "                         [0, 0, 0, 1, 0, 0],\n",
    "                         [0, 0, 1/np.sqrt(2), 0, -1/np.sqrt(2), 0],\n",
    "                         [0, 0, 0, 0, 0, 1]], dtype=np.complex128)\n",
    "\n",
    "    def _circuit_diagram_info_(self, args):\n",
    "        return cirq.protocols.CircuitDiagramInfo(wire_symbols=('@', 'H'))\n",
    "\n",
    "\n",
    "\n",
    "# Apply the CH gate to the qubit and qutrit\n",
    "qubit = cirq.LineQubit(0)\n",
    "qutrit = cirq.LineQid(1, dimension=3)\n",
    "circuit = cirq.Circuit(\n",
    "    CH().on(qubit, qutrit)\n",
    ")\n",
    "\n",
    "print(circuit)\n"
   ]
  },
  {
   "cell_type": "code",
   "execution_count": 26,
   "id": "c413fedf-3f71-4313-b4b6-aadd9949b4b5",
   "metadata": {},
   "outputs": [
    {
     "name": "stdout",
     "output_type": "stream",
     "text": [
      "0: ─────────@──────\n",
      "            │\n",
      "1 (d=3): ───SWAP───\n"
     ]
    }
   ],
   "source": [
    "class CSwap(cirq.Gate):\n",
    "    def __init__(self):\n",
    "        super().__init__()\n",
    "\n",
    "    def _num_qubits_(self):\n",
    "        return 3\n",
    "\n",
    "    def _qid_shape_(self):\n",
    "        return (2, 3)\n",
    "\n",
    "    def _unitary_(self):\n",
    "        return np.array([[1, 0, 0, 0, 0, 0],\n",
    "                         [0, 1, 0, 0, 0, 0],\n",
    "                         [0, 0, 1, 0, 0, 0],\n",
    "                         [0, 0, 0, 0, 1, 0],\n",
    "                         [0, 0, 0, 1, 0, 0],\n",
    "                         [0, 0, 0, 0, 0, 1]], dtype=np.complex128)\n",
    "\n",
    "    def _circuit_diagram_info_(self, args):\n",
    "        return cirq.protocols.CircuitDiagramInfo(wire_symbols=('@', 'SWAP'))\n",
    "\n",
    "# Apply the CSwap gate to the qubit and qutrit\n",
    "qubit = cirq.LineQubit(0)\n",
    "qutrit = cirq.LineQid(1, dimension=3)\n",
    "# qubit2 = cirq.LineQubit(2)\n",
    "circuit = cirq.Circuit(\n",
    "    CSwap().on(qubit, qutrit)\n",
    ")\n",
    "\n",
    "print(circuit)"
   ]
  },
  {
   "cell_type": "code",
   "execution_count": null,
   "id": "9589bb6c-dc53-4125-a881-3d1917582a6e",
   "metadata": {},
   "outputs": [],
   "source": []
  }
 ],
 "metadata": {
  "kernelspec": {
   "display_name": "Python 3.8.5 64-bit ('anaconda3': virtualenv)",
   "language": "python",
   "name": "python385jvsc74a57bd0474c67ce7e36ad5731492349411c4ce02ca5c170a680b2d1efe1eb0325e35fe7"
  },
  "language_info": {
   "codemirror_mode": {
    "name": "ipython",
    "version": 3
   },
   "file_extension": ".py",
   "mimetype": "text/x-python",
   "name": "python",
   "nbconvert_exporter": "python",
   "pygments_lexer": "ipython3",
   "version": "3.9.13"
  }
 },
 "nbformat": 4,
 "nbformat_minor": 5
}
