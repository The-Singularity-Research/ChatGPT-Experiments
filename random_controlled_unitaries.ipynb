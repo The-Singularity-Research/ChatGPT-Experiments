{
 "cells": [
  {
   "cell_type": "markdown",
   "id": "07224e3a-0e51-4de3-9e18-7792855f3dcc",
   "metadata": {},
   "source": [
    "# Random Controlled Unitaries"
   ]
  },
  {
   "cell_type": "code",
   "execution_count": 1,
   "id": "d117f7f1-3129-42af-bfe7-321f942ce292",
   "metadata": {},
   "outputs": [
    {
     "name": "stdout",
     "output_type": "stream",
     "text": [
      "0: ───H───@───────────────────────────────H───\n",
      "          │\n",
      "          ┌                           ┐\n",
      "1: ───────│ 0.297+0.229j -0.86 +0.345j│───────\n",
      "          │-0.455+0.808j  0.189+0.324j│\n",
      "          └                           ┘\n",
      "Control qubit in |0> state:\n",
      "measurements: (no measurements)\n",
      "\n",
      "qubits: (cirq.LineQubit(0), cirq.LineQubit(1))\n",
      "output vector: (0.648+0.115j)|00⟩ + (-0.227+0.404j)|01⟩ + (0.352-0.115j)|10⟩ + (0.227-0.404j)|11⟩\n",
      "\n",
      "phase:\n",
      "output vector: |⟩\n",
      "Control qubit in |1> state:\n",
      "measurements: (no measurements)\n",
      "\n",
      "qubits: (cirq.LineQubit(0), cirq.LineQubit(1))\n",
      "output vector: (-0.43+0.172j)|00⟩ + (0.594+0.162j)|01⟩ + (0.43-0.172j)|10⟩ + (0.406-0.162j)|11⟩\n",
      "\n",
      "phase:\n",
      "output vector: |⟩\n"
     ]
    }
   ],
   "source": [
    "import cirq\n",
    "import numpy as np\n",
    "from scipy.stats import unitary_group\n",
    "\n",
    "# Define a random unitary matrix\n",
    "random_unitary = unitary_group.rvs(2)\n",
    "\n",
    "# Define the circuit with two qubits\n",
    "q0, q1 = cirq.LineQubit.range(2)\n",
    "circuit = cirq.Circuit()\n",
    "\n",
    "# Apply a Hadamard gate to the control qubit\n",
    "circuit.append(cirq.H(q0))\n",
    "\n",
    "# Apply a controlled-unitary gate\n",
    "circuit.append(cirq.ControlledGate(cirq.MatrixGate(random_unitary)).on(q0, q1))\n",
    "\n",
    "# Apply a Hadamard gate to the control qubit again\n",
    "circuit.append(cirq.H(q0))\n",
    "\n",
    "# Display the circuit\n",
    "print(circuit)\n",
    "\n",
    "# Simulate the circuit for both control qubit states\n",
    "simulator = cirq.Simulator()\n",
    "result = simulator.simulate(circuit, qubit_order=[q0, q1])\n",
    "\n",
    "print(f\"Control qubit in |0> state:\\n{result}\")\n",
    "print(f\"Control qubit in |1> state:\\n{simulator.simulate(circuit, initial_state=1, qubit_order=[q0, q1])}\")\n"
   ]
  },
  {
   "cell_type": "markdown",
   "id": "cef2ff41-75b9-44bd-9052-9ab8da95fc31",
   "metadata": {},
   "source": [
    "We should be able to generalize random controlled unitaries to the case with a control qubit and a target qudit of dimension `n`. Random controlled unitaries allow for modelling more general forms of entanglement than just the standard `CNOT` (or its generalization the `CSHIFT`) gate, or the `CZ` (or its generalization the `CPHASE`) gate. More general forms of entanglement allow us to model perterbations and errors in surface codes and their generalizations. \n",
    "\n",
    "We can calculate distance between a random `CU` and the `CX` gate in the operator norm. Once we have a distance, we can construct edge weights in something like an interaction graph as the reciprocal of the distance. This means interactions are \"stronger\" when they are closer to a `CX` entangling gate. Note, we could also use `CZ` or some other controlled-gate as our reference. Using this, we can develop different models of entanglement and we may find that custom AI-designed CU gates that are built specifically for certain hardware backends are better for performing quantum computation. "
   ]
  },
  {
   "cell_type": "code",
   "execution_count": 2,
   "id": "7f04a963-30bc-4cfe-9362-d95eaf2f2bdb",
   "metadata": {},
   "outputs": [
    {
     "name": "stdout",
     "output_type": "stream",
     "text": [
      "0: ───H───@───────────────────────────────H───\n",
      "          │\n",
      "          ┌                           ┐\n",
      "1: ───────│ 0.987+0.016j -0.128-0.091j│───────\n",
      "          │-0.156-0.022j -0.726-0.67j │\n",
      "          └                           ┘\n",
      "Distance between the random controlled unitary gate and the CNOT gate: 1.9038557282437243\n"
     ]
    }
   ],
   "source": [
    "import cirq\n",
    "import numpy as np\n",
    "from scipy.stats import unitary_group\n",
    "\n",
    "# Define a random unitary matrix\n",
    "random_unitary = unitary_group.rvs(2)\n",
    "\n",
    "# Define the circuit with two qubits\n",
    "q0, q1 = cirq.LineQubit.range(2)\n",
    "circuit = cirq.Circuit()\n",
    "\n",
    "# Apply a Hadamard gate to the control qubit\n",
    "circuit.append(cirq.H(q0))\n",
    "\n",
    "# Apply a controlled-unitary gate\n",
    "circuit.append(cirq.ControlledGate(cirq.MatrixGate(random_unitary)).on(q0, q1))\n",
    "\n",
    "# Apply a Hadamard gate to the control qubit again\n",
    "circuit.append(cirq.H(q0))\n",
    "\n",
    "# Display the circuit\n",
    "print(circuit)\n",
    "\n",
    "# Calculate the matrix representation of the CNOT gate\n",
    "cnot_matrix = np.array([[1, 0, 0, 0],\n",
    "                        [0, 1, 0, 0],\n",
    "                        [0, 0, 0, 1],\n",
    "                        [0, 0, 1, 0]])\n",
    "\n",
    "# Calculate the matrix representation of the random controlled unitary gate\n",
    "cu_matrix = cirq.unitary(circuit)\n",
    "\n",
    "# Calculate the difference matrix\n",
    "diff_matrix = cu_matrix - cnot_matrix\n",
    "\n",
    "# Calculate the operator norm of the difference matrix\n",
    "distance = np.linalg.norm(diff_matrix, ord=2)\n",
    "\n",
    "print(f\"Distance between the random controlled unitary gate and the CNOT gate: {distance}\")\n"
   ]
  },
  {
   "cell_type": "markdown",
   "id": "d761cf23-17ca-4b2e-930f-cdcbef8b9935",
   "metadata": {},
   "source": [
    "We now want to constuct an interaction graph with an edge weight corresponding to `1/distance`. "
   ]
  },
  {
   "cell_type": "code",
   "execution_count": 3,
   "id": "67b2efe0-5812-470d-bcd4-edf504fbf596",
   "metadata": {},
   "outputs": [
    {
     "name": "stdout",
     "output_type": "stream",
     "text": [
      "Adjacency matrix for the interaction graph:\n",
      "[[0.         0.51069633]\n",
      " [0.51069633 0.        ]]\n"
     ]
    }
   ],
   "source": [
    "import cirq\n",
    "import numpy as np\n",
    "from scipy.stats import unitary_group\n",
    "\n",
    "# Define a random unitary matrix\n",
    "random_unitary = unitary_group.rvs(2)\n",
    "\n",
    "# Define the circuit with two qubits\n",
    "q0, q1 = cirq.LineQubit.range(2)\n",
    "circuit = cirq.Circuit()\n",
    "\n",
    "# Apply a Hadamard gate to the control qubit\n",
    "circuit.append(cirq.H(q0))\n",
    "\n",
    "# Apply a controlled-unitary gate\n",
    "circuit.append(cirq.ControlledGate(cirq.MatrixGate(random_unitary)).on(q0, q1))\n",
    "\n",
    "# Apply a Hadamard gate to the control qubit again\n",
    "circuit.append(cirq.H(q0))\n",
    "\n",
    "# Calculate the matrix representation of the CNOT gate\n",
    "cnot_matrix = np.array([[1, 0, 0, 0],\n",
    "                        [0, 1, 0, 0],\n",
    "                        [0, 0, 0, 1],\n",
    "                        [0, 0, 1, 0]])\n",
    "\n",
    "# Calculate the matrix representation of the random controlled unitary gate\n",
    "cu_matrix = cirq.unitary(circuit)\n",
    "\n",
    "# Calculate the distance between the random controlled unitary gate and the CNOT gate\n",
    "distance = np.linalg.norm(cu_matrix - cnot_matrix, ord=2)\n",
    "\n",
    "# Construct the adjacency matrix for the interaction graph\n",
    "adjacency_matrix = np.zeros((2, 2))\n",
    "if distance != 0:\n",
    "    adjacency_matrix[0, 1] = 1 / distance\n",
    "    adjacency_matrix[1, 0] = 1 / distance\n",
    "\n",
    "print(f\"Adjacency matrix for the interaction graph:\\n{adjacency_matrix}\")\n"
   ]
  },
  {
   "cell_type": "markdown",
   "id": "a8d2d75f-dd0f-4dc4-8367-541073bae01e",
   "metadata": {},
   "source": [
    "Here's another example with the weighted interaction graph visualized. "
   ]
  },
  {
   "cell_type": "code",
   "execution_count": 5,
   "id": "0d562a99-8ac6-488e-a63a-9588f25eb413",
   "metadata": {},
   "outputs": [
    {
     "data": {
      "image/png": "[encoded data removed]",
      "text/plain": [
       "<Figure size 640x480 with 1 Axes>"
      ]
     },
     "metadata": {},
     "output_type": "display_data"
    }
   ],
   "source": [
    "import cirq\n",
    "import numpy as np\n",
    "from scipy.stats import unitary_group\n",
    "import networkx as nx\n",
    "import matplotlib.pyplot as plt\n",
    "\n",
    "# Define a random unitary matrix\n",
    "random_unitary = unitary_group.rvs(2)\n",
    "\n",
    "# Define the circuit with two qubits\n",
    "q0, q1 = cirq.LineQubit.range(2)\n",
    "circuit = cirq.Circuit()\n",
    "\n",
    "# Apply a Hadamard gate to the control qubit\n",
    "# circuit.append(cirq.H(q0))\n",
    "\n",
    "# Apply a controlled-unitary gate\n",
    "circuit.append(cirq.ControlledGate(cirq.MatrixGate(random_unitary)).on(q0, q1))\n",
    "\n",
    "# Apply a Hadamard gate to the control qubit again\n",
    "# circuit.append(cirq.H(q0))\n",
    "\n",
    "# Calculate the matrix representation of the CNOT gate\n",
    "cnot_matrix = np.array([[1, 0, 0, 0],\n",
    "                        [0, 1, 0, 0],\n",
    "                        [0, 0, 0, 1],\n",
    "                        [0, 0, 1, 0]])\n",
    "\n",
    "# Calculate the matrix representation of the random controlled unitary gate\n",
    "cu_matrix = cirq.unitary(circuit)\n",
    "\n",
    "# Calculate the distance between the random controlled unitary gate and the CNOT gate\n",
    "distance = np.linalg.norm(cu_matrix - cnot_matrix, ord=2)\n",
    "\n",
    "# Construct the adjacency matrix for the interaction graph\n",
    "adjacency_matrix = np.zeros((2, 2))\n",
    "if distance != 0:\n",
    "    adjacency_matrix[0, 1] = 1 / distance\n",
    "    adjacency_matrix[1, 0] = 1 / distance\n",
    "\n",
    "# Create the graph\n",
    "G = nx.Graph()\n",
    "\n",
    "# Add nodes\n",
    "G.add_nodes_from([0, 1])\n",
    "\n",
    "# Add edges\n",
    "for i in range(adjacency_matrix.shape[0]):\n",
    "    for j in range(adjacency_matrix.shape[1]):\n",
    "        if adjacency_matrix[i, j] != 0:\n",
    "            G.add_edge(i, j, weight=adjacency_matrix[i, j])\n",
    "\n",
    "# Draw the graph\n",
    "pos = nx.spring_layout(G)\n",
    "nx.draw(G, pos, with_labels=True)\n",
    "labels = nx.get_edge_attributes(G, 'weight')\n",
    "nx.draw_networkx_edge_labels(G, pos, edge_labels=labels)\n",
    "plt.show()\n"
   ]
  },
  {
   "cell_type": "code",
   "execution_count": null,
   "id": "8d0edeeb-5331-427a-841a-9cf0d8c36b02",
   "metadata": {},
   "outputs": [],
   "source": []
  }
 ],
 "metadata": {
  "kernelspec": {
   "display_name": "Python 3.8.5 64-bit ('anaconda3': virtualenv)",
   "language": "python",
   "name": "python385jvsc74a57bd0474c67ce7e36ad5731492349411c4ce02ca5c170a680b2d1efe1eb0325e35fe7"
  },
  "language_info": {
   "codemirror_mode": {
    "name": "ipython",
    "version": 3
   },
   "file_extension": ".py",
   "mimetype": "text/x-python",
   "name": "python",
   "nbconvert_exporter": "python",
   "pygments_lexer": "ipython3",
   "version": "3.9.13"
  }
 },
 "nbformat": 4,
 "nbformat_minor": 5
}
