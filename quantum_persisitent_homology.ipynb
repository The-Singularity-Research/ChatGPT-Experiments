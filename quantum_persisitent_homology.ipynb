{
 "cells": [
  {
   "cell_type": "markdown",
   "id": "c3308beb-9695-45f8-92ba-58e18b324d71",
   "metadata": {},
   "source": [
    "# Persistent Homology of Quantum Entanglement"
   ]
  },
  {
   "cell_type": "markdown",
   "id": "133cca5d-0cb2-490a-ae93-b416d2378586",
   "metadata": {},
   "source": [
    "In this notebook we first create a perturbation or generalization of a surface code, replacing the usual `CNOT` and `CZ` entangling gates with random controlled unitary gates to entangle qubits in a lattice one the surface of a torus. Once we have this, we use von Neumann entropy to measure pairwise mutual information between qubits. From this, we get a heatmap of a distance matrix which can be used for computing the $1$-parameter (the additive inverse pairwise mutual information) persistent homology. From this, we can then pass the distance matrix into something like scikit-tda. This produces persistence diagrams and barcodes that can be used to understand the local and global entanglement of a material. From this, we can study the phase transitions of topological quantum matter and other properties in condensed matter physics. "
   ]
  },
  {
   "cell_type": "markdown",
   "id": "72c12184-22a7-4ece-a974-b5aa0fc04768",
   "metadata": {},
   "source": [
    "### Persturbed Surface Code\n",
    "\n",
    "This first code block generates a perturbed or generalized surface code circuit. "
   ]
  },
  {
   "cell_type": "code",
   "execution_count": 1,
   "id": "a3ca0af4-d6aa-4b23-bff9-c93669049df4",
   "metadata": {},
   "outputs": [
    {
     "name": "stdout",
     "output_type": "stream",
     "text": [
      "                                                                                                                                               ┌──────────────────────────────────────────────────────────┐                                   ┌──────────────────────────────┐\n",
      "(0, 0): ───H───@───────────────────────────────@───────────────────────────────H─────────────────────────────────────────────────────────────────────────────────────────────────────────────────────────────────────────────────────────────────────────────────────────────────────────────────────────────────────\n",
      "               │                               │\n",
      "               │                               ┌                         ┐\n",
      "(0, 1): ───H───┼───────────────────────────────│0.056-0.067j 0.635+0.767j│─────@───────────────────────────────@────────────────────────────────H────────────────────────────────────────────────────────────────────────────────────────────────────────────────────────────────────────────────────────────────────\n",
      "               │                               │0.866+0.492j 0.056-0.067j│     │                               │\n",
      "               │                               └                         ┘     │                               │\n",
      "               │                                                               │                               │\n",
      "               │                                                               │                               ┌                           ┐\n",
      "(0, 2): ───H───┼───────────────────────────────────────────────────────────────┼───────────────────────────────│ 0.885-0.397j  0.241-0.047j│────@─────────────────────────────────────────────────────────────H──────────────────────────────────────────────────────────────────────────────────────────────────────\n",
      "               │                                                               │                               │-0.112-0.218j  0.238+0.94j │    │\n",
      "               │                                                               │                               └                           ┘    │\n",
      "               │                                                               │                                                                │\n",
      "               ┌                           ┐                                   │                                                                │\n",
      "(1, 0): ───H───│-0.654-0.495j  0.572+0.025j│───@───────────────────────────────┼───────────────────────────────@────────────────────────────────┼────────────────────────────H───────────────────────────────────────────────────────────────────────────────────────────────────────────────────────────────────────\n",
      "               │ 0.147+0.553j  0.624+0.532j│   │                               │                               │                                │\n",
      "               └                           ┘   │                               │                               │                                │\n",
      "                                               │                               │                               │                                │\n",
      "                                               │                               ┌                           ┐   ┌                           ┐    │\n",
      "(1, 1): ───H───────────────────────────────────┼───────────────────────────────│-0.321+0.54j   0.321+0.709j│───│ 0.064-0.602j -0.213+0.767j│────┼────────────────────────────@────────────────────────────────@────────────────────────────────H─────────────────────────────────────────────────────────────────────\n",
      "                                               │                               │ 0.74 +0.24j  -0.501+0.379j│   │ 0.146-0.783j  0.207-0.569j│    │                            │                                │\n",
      "                                               │                               └                           ┘   └                           ┘    │                            │                                │\n",
      "                                               │                                                                                                │                            │                                │\n",
      "                                               │                                                                                                ┌                           ┐│                                ┌                           ┐\n",
      "(1, 2): ───H───────────────────────────────────┼────────────────────────────────────────────────────────────────────────────────────────────────│-0.473-0.495j  0.481-0.548j│┼────────────────────────────────│ 0.145+0.635j  0.362+0.667j│────@─────────────────────────────────H───────────────────────────────────\n",
      "                                               │                                                                                                │ 0.567+0.458j  0.382-0.568j││                                │-0.68 +0.337j  0.485-0.435j│    │\n",
      "                                               │                                                                                                └                           ┘│                                └                           ┘    │\n",
      "                                               │                                                                                                                             │                                                                 │\n",
      "                                               ┌                           ┐                                                                                                 │                                                                 │\n",
      "(2, 0): ───H───────────────────────────────────│-0.576+0.515j -0.492+0.401j│─────────────────────────────────────────────────────────────────────────────────────────────────┼────────────────────────────────@────────────────────────────────┼────────────────────────────H────────────────────────────────────────\n",
      "                                               │ 0.029+0.634j -0.   -0.773j│                                                                                                 │                                │                                │\n",
      "                                               └                           ┘                                                                                                 │                                │                                │\n",
      "                                                                                                                                                                             │                                │                                │\n",
      "                                                                                                                                                                             ┌                           ┐    ┌                           ┐    │\n",
      "(2, 1): ───H─────────────────────────────────────────────────────────────────────────────────────────────────────────────────────────────────────────────────────────────────│-0.169-0.113j  0.389+0.898j│────│-0.258+0.279j -0.645+0.662j│────┼─────────────────────────────────@───────────────────────────────H───\n",
      "                                                                                                                                                                             │ 0.759-0.619j  0.202-0.022j│    │ 0.811-0.444j -0.339+0.174j│    │                                 │\n",
      "                                                                                                                                                                             └                           ┘    └                           ┘    │                                 │\n",
      "                                                                                                                                                                                                                                               │                                 │\n",
      "                                                                                                                                                                                                                                               ┌                           ┐     ┌                           ┐\n",
      "(2, 2): ───H───────────────────────────────────────────────────────────────────────────────────────────────────────────────────────────────────────────────────────────────────────────────────────────────────────────────────────────────────│ 0.108+0.993j -0.041+0.008j│─────│ 0.709-0.599j  0.192-0.32j │───H───\n",
      "                                                                                                                                                                                                                                               │-0.027+0.031j  0.81 +0.586j│     │ 0.33 -0.175j -0.636+0.676j│\n",
      "                                                                                                                                                                                                                                               └                           ┘     └                           ┘\n",
      "                                                                                                                                               └──────────────────────────────────────────────────────────┘                                   └──────────────────────────────┘\n"
     ]
    }
   ],
   "source": [
    "import cirq\n",
    "import numpy as np\n",
    "\n",
    "# Define the qubits for the surface code\n",
    "qubits = [cirq.GridQubit(i, j) for i in range(3) for j in range(3)]\n",
    "\n",
    "def surface_code_circuit(qubits):\n",
    "    \"\"\"Creates a surface code circuit using controlled random unitary gates to entangle qubits\"\"\"\n",
    "    code_size = int(np.sqrt(len(qubits)))\n",
    "    circuit = cirq.Circuit()\n",
    "\n",
    "    # Apply Hadamard gate to each qubit\n",
    "    for q in qubits:\n",
    "        circuit.append(cirq.H(q))\n",
    "\n",
    "    # Add controlled random unitary gates to entangle qubits\n",
    "    for i in range(code_size):\n",
    "        for j in range(code_size):\n",
    "            if i < code_size - 1:\n",
    "                unitary = cirq.testing.random_unitary(2)\n",
    "                circuit.append(cirq.ControlledGate(cirq.MatrixGate(unitary)).on(qubits[i*code_size+j], qubits[(i+1)*code_size+j]))\n",
    "            if j < code_size - 1:\n",
    "                unitary = cirq.testing.random_unitary(2)\n",
    "                circuit.append(cirq.ControlledGate(cirq.MatrixGate(unitary)).on(qubits[i*code_size+j], qubits[i*code_size+j+1]))\n",
    "\n",
    "    # Add Hadamard gates again to each qubit\n",
    "    for q in qubits:\n",
    "        circuit.append(cirq.H(q))\n",
    "\n",
    "    return circuit\n",
    "\n",
    "# Create the surface code circuit\n",
    "circuit = surface_code_circuit(qubits)\n",
    "\n",
    "# Print the circuit\n",
    "print(circuit)\n"
   ]
  },
  {
   "cell_type": "markdown",
   "id": "b7693a6e-1961-4d37-b0e9-fa223892a64d",
   "metadata": {},
   "source": [
    "### Distance Matrix of Pairwise Inverse Mutual Information Between Qubits\n",
    "\n",
    "Next, we generate the heat map of the distance matrix given by the pairwise inverse mutual information between qubits. "
   ]
  },
  {
   "cell_type": "code",
   "execution_count": 13,
   "id": "6283cd32-6ab1-444b-9867-675c5ced1b07",
   "metadata": {},
   "outputs": [
    {
     "data": {
      "image/png": "[encoded data removed]",
      "text/plain": [
       "<Figure size 640x480 with 2 Axes>"
      ]
     },
     "metadata": {},
     "output_type": "display_data"
    }
   ],
   "source": [
    "import cirq\n",
    "import numpy as np\n",
    "import matplotlib.pyplot as plt\n",
    "\n",
    "# Define the qubits for the surface code\n",
    "qubits = [cirq.GridQubit(i, j) for i in range(3) for j in range(3)]\n",
    "\n",
    "def surface_code_circuit(qubits):\n",
    "    \"\"\"Creates a surface code circuit using controlled random unitary gates to entangle qubits\"\"\"\n",
    "    code_size = int(np.sqrt(len(qubits)))\n",
    "    circuit = cirq.Circuit()\n",
    "\n",
    "    # Apply Hadamard gate to each qubit\n",
    "    for q in qubits:\n",
    "        circuit.append(cirq.H(q))\n",
    "\n",
    "    # Add controlled random unitary gates to entangle qubits\n",
    "    for i in range(code_size):\n",
    "        for j in range(code_size):\n",
    "            if i < code_size - 1:\n",
    "                unitary = cirq.testing.random_unitary(2)\n",
    "                circuit.append(cirq.ControlledGate(cirq.MatrixGate(unitary)).on(qubits[i*code_size+j], qubits[(i+1)*code_size+j]))\n",
    "            if j < code_size - 1:\n",
    "                unitary = cirq.testing.random_unitary(2)\n",
    "                circuit.append(cirq.ControlledGate(cirq.MatrixGate(unitary)).on(qubits[i*code_size+j], qubits[i*code_size+j+1]))\n",
    "\n",
    "    # Add Hadamard gates again to each qubit\n",
    "    for q in qubits:\n",
    "        circuit.append(cirq.H(q))\n",
    "\n",
    "    return circuit\n",
    "\n",
    "def compute_inverse_mutual_info(qubits):\n",
    "    \"\"\"Computes the inverse pairwise mutual information between each pair of qubits\"\"\"\n",
    "    num_qubits = len(qubits)\n",
    "    distance_matrix = np.zeros((num_qubits, num_qubits))\n",
    "\n",
    "    # Create a surface code circuit\n",
    "    circuit = surface_code_circuit(qubits)\n",
    "\n",
    "    # Compute the final state vector of the circuit\n",
    "    sim = cirq.Simulator()\n",
    "    final_state = sim.simulate(circuit).state_vector()\n",
    "\n",
    "    # Compute the marginal probability distributions for each qubit\n",
    "    probs = np.abs(final_state)**2\n",
    "    marginal_probs = np.sum(probs.reshape(-1, 2), axis=1)\n",
    "\n",
    "    # Compute the inverse pairwise mutual information\n",
    "    for i in range(num_qubits):\n",
    "        for j in range(i+1, num_qubits):\n",
    "            joint_prob = np.abs(final_state)**2\n",
    "            joint_probs = np.sum(joint_prob.reshape(-1, 4), axis=1)\n",
    "            mutual_info = joint_probs.dot(np.log2(joint_probs/(marginal_probs[i]*marginal_probs[j])))\n",
    "            distance_matrix[i,j] = distance_matrix[j,i] = 1/mutual_info\n",
    "\n",
    "    return distance_matrix\n",
    "\n",
    "# Compute the inverse pairwise mutual information\n",
    "distance_matrix = compute_inverse_mutual_info(qubits)\n",
    "\n",
    "# Print the distance matrix as a heat map\n",
    "plt.imshow(distance_matrix, cmap='hot', interpolation='nearest')\n",
    "plt.colorbar()\n",
    "plt.show()\n"
   ]
  },
  {
   "cell_type": "markdown",
   "id": "7debd074-3a5c-4772-a55a-a246eb39b367",
   "metadata": {},
   "source": [
    "We can now apply some Topological Data Analysis to compute things like persistent homology using the [scikit-tda](https://scikit-tda.org/libraries.html) libraries. We follow the ideas of the [Persistent homology of quantum entanglement](https://arxiv.org/abs/2110.10214). The goal was to provide a complete code implementation of the ideas of this paper to study the perturbed surface codes above. This can help understand entanglement in systems using gates other than the usual `CNOT` and `CZ` gates for entangling. In particular, we might \n",
    "\n",
    "1. Study errors in the usual entangling gates (`CNOT`, `CZ`, etc.)\n",
    "2. Design custon controlled unitaries for entangling qubits in a nonstandard way using machine learning to design th"
   ]
  }
 ],
 "metadata": {
  "kernelspec": {
   "display_name": "Python 3.8.5 64-bit ('anaconda3': virtualenv)",
   "language": "python",
   "name": "python385jvsc74a57bd0474c67ce7e36ad5731492349411c4ce02ca5c170a680b2d1efe1eb0325e35fe7"
  },
  "language_info": {
   "codemirror_mode": {
    "name": "ipython",
    "version": 3
   },
   "file_extension": ".py",
   "mimetype": "text/x-python",
   "name": "python",
   "nbconvert_exporter": "python",
   "pygments_lexer": "ipython3",
   "version": "3.9.13"
  }
 },
 "nbformat": 4,
 "nbformat_minor": 5
}
